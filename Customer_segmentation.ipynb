{
 "cells": [
  {
   "cell_type": "code",
   "execution_count": 1,
   "id": "7fc5f39c",
   "metadata": {},
   "outputs": [],
   "source": [
    "# Importing the nessesarry libraries\n",
    "import pandas as pd\n",
    "import re\n",
    "import pandas as pd\n",
    "import matplotlib.pyplot as plt\n",
    "import seaborn as sns\n",
    "import matplotlib.pyplot as plt"
   ]
  },
  {
   "cell_type": "code",
   "execution_count": 2,
   "id": "425246b2",
   "metadata": {},
   "outputs": [
    {
     "data": {
      "text/plain": [
       "((21983, 30),\n",
       " Index(['REGISTRATION_DATE', 'REGISTRATION_COUNTRY', 'PURCHASE_COUNT',\n",
       "        'PURCHASE_COUNT_DELIVERY', 'PURCHASE_COUNT_TAKEAWAY',\n",
       "        'FIRST_PURCHASE_DAY', 'LAST_PURCHASE_DAY', 'USER_ID',\n",
       "        'BREAKFAST_PURCHASES', 'LUNCH_PURCHASES', 'EVENING_PURCHASES',\n",
       "        'DINNER_PURCHASES', 'LATE_NIGHT_PURCHASES', 'TOTAL_PURCHASES_EUR',\n",
       "        'DISTINCT_PURCHASE_VENUE_COUNT', 'MIN_PURCHASE_VALUE_EUR',\n",
       "        'MAX_PURCHASE_VALUE_EUR', 'AVG_PURCHASE_VALUE_EUR', 'PREFERRED_DEVICE',\n",
       "        'IOS_PURCHASES', 'WEB_PURCHASES', 'ANDROID_PURCHASES',\n",
       "        'PREFERRED_RESTAURANT_TYPES', 'USER_HAS_VALID_PAYMENT_METHOD',\n",
       "        'MOST_COMMON_HOUR_OF_THE_DAY_TO_PURCHASE',\n",
       "        'MOST_COMMON_WEEKDAY_TO_PURCHASE', 'AVG_DAYS_BETWEEN_PURCHASES',\n",
       "        'MEDIAN_DAYS_BETWEEN_PURCHASES', 'AVERAGE_DELIVERY_DISTANCE_KMS',\n",
       "        'PURCHASE_COUNT_BY_STORE_TYPE'],\n",
       "       dtype='object'))"
      ]
     },
     "execution_count": 2,
     "metadata": {},
     "output_type": "execute_result"
    }
   ],
   "source": [
    "# Reading the data\n",
    "customer_data_orig = pd.read_csv('./dataset.csv')\n",
    "customer_data_orig.shape , customer_data_orig.columns  # Printing the data shape and columns\n",
    "# I printed the columns to have a basic understanding of what kind of data i have in hand"
   ]
  },
  {
   "cell_type": "code",
   "execution_count": 3,
   "id": "688c9e9c",
   "metadata": {},
   "outputs": [
    {
     "data": {
      "text/plain": [
       "array([nan,  1.,  9.,  3.,  6.,  2.,  4., 13.,  7., 34.,  5., 16.,  8.,\n",
       "       17., 15., 10., 12., 20., 14., 11., 21., 19., 25., 18., 31., 22.,\n",
       "       71., 32., 39., 68., 30., 26., 29., 27., 23., 24., 38., 41., 36.,\n",
       "       42., 35.])"
      ]
     },
     "execution_count": 3,
     "metadata": {},
     "output_type": "execute_result"
    }
   ],
   "source": [
    "customer_data_orig['DISTINCT_PURCHASE_VENUE_COUNT'].unique()"
   ]
  },
  {
   "cell_type": "code",
   "execution_count": 4,
   "id": "60372526",
   "metadata": {
    "scrolled": true
   },
   "outputs": [
    {
     "data": {
      "text/html": [
       "<div>\n",
       "<style scoped>\n",
       "    .dataframe tbody tr th:only-of-type {\n",
       "        vertical-align: middle;\n",
       "    }\n",
       "\n",
       "    .dataframe tbody tr th {\n",
       "        vertical-align: top;\n",
       "    }\n",
       "\n",
       "    .dataframe thead th {\n",
       "        text-align: right;\n",
       "    }\n",
       "</style>\n",
       "<table border=\"1\" class=\"dataframe\">\n",
       "  <thead>\n",
       "    <tr style=\"text-align: right;\">\n",
       "      <th></th>\n",
       "      <th>REGISTRATION_DATE</th>\n",
       "      <th>REGISTRATION_COUNTRY</th>\n",
       "      <th>PURCHASE_COUNT</th>\n",
       "      <th>PURCHASE_COUNT_DELIVERY</th>\n",
       "      <th>PURCHASE_COUNT_TAKEAWAY</th>\n",
       "      <th>FIRST_PURCHASE_DAY</th>\n",
       "      <th>LAST_PURCHASE_DAY</th>\n",
       "      <th>USER_ID</th>\n",
       "      <th>BREAKFAST_PURCHASES</th>\n",
       "      <th>LUNCH_PURCHASES</th>\n",
       "      <th>...</th>\n",
       "      <th>WEB_PURCHASES</th>\n",
       "      <th>ANDROID_PURCHASES</th>\n",
       "      <th>PREFERRED_RESTAURANT_TYPES</th>\n",
       "      <th>USER_HAS_VALID_PAYMENT_METHOD</th>\n",
       "      <th>MOST_COMMON_HOUR_OF_THE_DAY_TO_PURCHASE</th>\n",
       "      <th>MOST_COMMON_WEEKDAY_TO_PURCHASE</th>\n",
       "      <th>AVG_DAYS_BETWEEN_PURCHASES</th>\n",
       "      <th>MEDIAN_DAYS_BETWEEN_PURCHASES</th>\n",
       "      <th>AVERAGE_DELIVERY_DISTANCE_KMS</th>\n",
       "      <th>PURCHASE_COUNT_BY_STORE_TYPE</th>\n",
       "    </tr>\n",
       "  </thead>\n",
       "  <tbody>\n",
       "    <tr>\n",
       "      <th>0</th>\n",
       "      <td>2019-09-01 00:00:00.000</td>\n",
       "      <td>DNK</td>\n",
       "      <td>0</td>\n",
       "      <td>NaN</td>\n",
       "      <td>NaN</td>\n",
       "      <td>NaN</td>\n",
       "      <td>NaN</td>\n",
       "      <td>1</td>\n",
       "      <td>NaN</td>\n",
       "      <td>NaN</td>\n",
       "      <td>...</td>\n",
       "      <td>NaN</td>\n",
       "      <td>NaN</td>\n",
       "      <td>NaN</td>\n",
       "      <td>False</td>\n",
       "      <td>NaN</td>\n",
       "      <td>NaN</td>\n",
       "      <td>NaN</td>\n",
       "      <td>NaN</td>\n",
       "      <td>NaN</td>\n",
       "      <td>{\\n  \"General merchandise\": 0,\\n  \"Grocery\": 0...</td>\n",
       "    </tr>\n",
       "    <tr>\n",
       "      <th>1</th>\n",
       "      <td>2019-09-01 00:00:00.000</td>\n",
       "      <td>FIN</td>\n",
       "      <td>1</td>\n",
       "      <td>1.0</td>\n",
       "      <td>0.0</td>\n",
       "      <td>2020-09-02 00:00:00.000</td>\n",
       "      <td>2020-09-02 00:00:00.000</td>\n",
       "      <td>2</td>\n",
       "      <td>0.0</td>\n",
       "      <td>1.0</td>\n",
       "      <td>...</td>\n",
       "      <td>0.0</td>\n",
       "      <td>1.0</td>\n",
       "      <td>NaN</td>\n",
       "      <td>False</td>\n",
       "      <td>23.0</td>\n",
       "      <td>2.0</td>\n",
       "      <td>NaN</td>\n",
       "      <td>NaN</td>\n",
       "      <td>6.853</td>\n",
       "      <td>{\\n  \"General merchandise\": 0,\\n  \"Grocery\": 0...</td>\n",
       "    </tr>\n",
       "    <tr>\n",
       "      <th>2</th>\n",
       "      <td>2019-09-01 00:00:00.000</td>\n",
       "      <td>DNK</td>\n",
       "      <td>19</td>\n",
       "      <td>19.0</td>\n",
       "      <td>0.0</td>\n",
       "      <td>2019-12-10 00:00:00.000</td>\n",
       "      <td>2020-05-25 00:00:00.000</td>\n",
       "      <td>3</td>\n",
       "      <td>0.0</td>\n",
       "      <td>4.0</td>\n",
       "      <td>...</td>\n",
       "      <td>19.0</td>\n",
       "      <td>0.0</td>\n",
       "      <td>NaN</td>\n",
       "      <td>True</td>\n",
       "      <td>21.0</td>\n",
       "      <td>2.0</td>\n",
       "      <td>9.0</td>\n",
       "      <td>3.0</td>\n",
       "      <td>6.559</td>\n",
       "      <td>{\\n  \"General merchandise\": 1,\\n  \"Grocery\": 9...</td>\n",
       "    </tr>\n",
       "    <tr>\n",
       "      <th>3</th>\n",
       "      <td>2019-09-01 00:00:00.000</td>\n",
       "      <td>FIN</td>\n",
       "      <td>0</td>\n",
       "      <td>NaN</td>\n",
       "      <td>NaN</td>\n",
       "      <td>NaN</td>\n",
       "      <td>NaN</td>\n",
       "      <td>4</td>\n",
       "      <td>NaN</td>\n",
       "      <td>NaN</td>\n",
       "      <td>...</td>\n",
       "      <td>NaN</td>\n",
       "      <td>NaN</td>\n",
       "      <td>NaN</td>\n",
       "      <td>False</td>\n",
       "      <td>NaN</td>\n",
       "      <td>NaN</td>\n",
       "      <td>NaN</td>\n",
       "      <td>NaN</td>\n",
       "      <td>NaN</td>\n",
       "      <td>{\\n  \"General merchandise\": 0,\\n  \"Grocery\": 0...</td>\n",
       "    </tr>\n",
       "    <tr>\n",
       "      <th>4</th>\n",
       "      <td>2019-09-01 00:00:00.000</td>\n",
       "      <td>GRC</td>\n",
       "      <td>0</td>\n",
       "      <td>NaN</td>\n",
       "      <td>NaN</td>\n",
       "      <td>NaN</td>\n",
       "      <td>NaN</td>\n",
       "      <td>5</td>\n",
       "      <td>NaN</td>\n",
       "      <td>NaN</td>\n",
       "      <td>...</td>\n",
       "      <td>NaN</td>\n",
       "      <td>NaN</td>\n",
       "      <td>NaN</td>\n",
       "      <td>False</td>\n",
       "      <td>NaN</td>\n",
       "      <td>NaN</td>\n",
       "      <td>NaN</td>\n",
       "      <td>NaN</td>\n",
       "      <td>NaN</td>\n",
       "      <td>{\\n  \"General merchandise\": 0,\\n  \"Grocery\": 0...</td>\n",
       "    </tr>\n",
       "  </tbody>\n",
       "</table>\n",
       "<p>5 rows × 30 columns</p>\n",
       "</div>"
      ],
      "text/plain": [
       "         REGISTRATION_DATE REGISTRATION_COUNTRY  PURCHASE_COUNT  \\\n",
       "0  2019-09-01 00:00:00.000                  DNK               0   \n",
       "1  2019-09-01 00:00:00.000                  FIN               1   \n",
       "2  2019-09-01 00:00:00.000                  DNK              19   \n",
       "3  2019-09-01 00:00:00.000                  FIN               0   \n",
       "4  2019-09-01 00:00:00.000                  GRC               0   \n",
       "\n",
       "   PURCHASE_COUNT_DELIVERY  PURCHASE_COUNT_TAKEAWAY       FIRST_PURCHASE_DAY  \\\n",
       "0                      NaN                      NaN                      NaN   \n",
       "1                      1.0                      0.0  2020-09-02 00:00:00.000   \n",
       "2                     19.0                      0.0  2019-12-10 00:00:00.000   \n",
       "3                      NaN                      NaN                      NaN   \n",
       "4                      NaN                      NaN                      NaN   \n",
       "\n",
       "         LAST_PURCHASE_DAY  USER_ID  BREAKFAST_PURCHASES  LUNCH_PURCHASES  \\\n",
       "0                      NaN        1                  NaN              NaN   \n",
       "1  2020-09-02 00:00:00.000        2                  0.0              1.0   \n",
       "2  2020-05-25 00:00:00.000        3                  0.0              4.0   \n",
       "3                      NaN        4                  NaN              NaN   \n",
       "4                      NaN        5                  NaN              NaN   \n",
       "\n",
       "   ...  WEB_PURCHASES  ANDROID_PURCHASES  PREFERRED_RESTAURANT_TYPES  \\\n",
       "0  ...            NaN                NaN                         NaN   \n",
       "1  ...            0.0                1.0                         NaN   \n",
       "2  ...           19.0                0.0                         NaN   \n",
       "3  ...            NaN                NaN                         NaN   \n",
       "4  ...            NaN                NaN                         NaN   \n",
       "\n",
       "   USER_HAS_VALID_PAYMENT_METHOD  MOST_COMMON_HOUR_OF_THE_DAY_TO_PURCHASE  \\\n",
       "0                          False                                      NaN   \n",
       "1                          False                                     23.0   \n",
       "2                           True                                     21.0   \n",
       "3                          False                                      NaN   \n",
       "4                          False                                      NaN   \n",
       "\n",
       "   MOST_COMMON_WEEKDAY_TO_PURCHASE  AVG_DAYS_BETWEEN_PURCHASES  \\\n",
       "0                              NaN                         NaN   \n",
       "1                              2.0                         NaN   \n",
       "2                              2.0                         9.0   \n",
       "3                              NaN                         NaN   \n",
       "4                              NaN                         NaN   \n",
       "\n",
       "   MEDIAN_DAYS_BETWEEN_PURCHASES AVERAGE_DELIVERY_DISTANCE_KMS  \\\n",
       "0                            NaN                           NaN   \n",
       "1                            NaN                         6.853   \n",
       "2                            3.0                         6.559   \n",
       "3                            NaN                           NaN   \n",
       "4                            NaN                           NaN   \n",
       "\n",
       "                        PURCHASE_COUNT_BY_STORE_TYPE  \n",
       "0  {\\n  \"General merchandise\": 0,\\n  \"Grocery\": 0...  \n",
       "1  {\\n  \"General merchandise\": 0,\\n  \"Grocery\": 0...  \n",
       "2  {\\n  \"General merchandise\": 1,\\n  \"Grocery\": 9...  \n",
       "3  {\\n  \"General merchandise\": 0,\\n  \"Grocery\": 0...  \n",
       "4  {\\n  \"General merchandise\": 0,\\n  \"Grocery\": 0...  \n",
       "\n",
       "[5 rows x 30 columns]"
      ]
     },
     "execution_count": 4,
     "metadata": {},
     "output_type": "execute_result"
    }
   ],
   "source": [
    "customer_data_orig.head()"
   ]
  },
  {
   "cell_type": "markdown",
   "id": "494b0ca4",
   "metadata": {},
   "source": [
    "# Exploratory Data Analysis"
   ]
  },
  {
   "cell_type": "markdown",
   "id": "516b93a3",
   "metadata": {},
   "source": [
    "### Customers who registered but not purchased vs those who made purchase\n",
    "- Almost 45.3% of the registered customers didn't made any purchase throughout Sep to Oct\n",
    "- Almost 54.7% of the registered customers made purchases out of which 19% are those who made one time purchase"
   ]
  },
  {
   "cell_type": "code",
   "execution_count": 5,
   "id": "37872d4d",
   "metadata": {},
   "outputs": [
    {
     "name": "stdout",
     "output_type": "stream",
     "text": [
      "Total Registerd Customer:  21983\n",
      "Registerd Customer Who didn't Purchase:  9955\n",
      "Registerd Customer Who Made Purchases:  12028\n"
     ]
    }
   ],
   "source": [
    "customer_data = customer_data_orig.set_index('USER_ID')\n",
    "print(\"Total Registerd Customer: \" ,len(customer_data))\n",
    "print(\"Registerd Customer Who didn't Purchase: \" ,len(customer_data[customer_data[\"PURCHASE_COUNT\"]==0])) # Non-Active\n",
    "print(\"Registerd Customer Who Made Purchases: \" ,len(customer_data[customer_data[\"PURCHASE_COUNT\"]>0])) # Active"
   ]
  },
  {
   "cell_type": "markdown",
   "id": "5c24dd18",
   "metadata": {},
   "source": [
    "It can be seen from above that there are total of 2198 customers out of which 9955 are those who didn't made any purchases.\n",
    "55% of customers made purchases while 45% of customers didn't made any purchase.\n",
    "\n",
    "In this analysis the customers who registered but not purchased group is called \"NON-ACTIVE\"\n",
    "\n",
    "Another key factor to notice are those customers who made only one time purchase throught the period as follows:"
   ]
  },
  {
   "cell_type": "code",
   "execution_count": 6,
   "id": "75bbb033",
   "metadata": {},
   "outputs": [
    {
     "name": "stdout",
     "output_type": "stream",
     "text": [
      "Registerd Customer Who Made one time Purchase:  4179\n"
     ]
    }
   ],
   "source": [
    "print(\"Registerd Customer Who Made one time Purchase: \" ,len(customer_data[customer_data[\"PURCHASE_COUNT\"]==1])) "
   ]
  },
  {
   "cell_type": "markdown",
   "id": "0c1182e5",
   "metadata": {},
   "source": [
    "Out of 12028 customers who made Purchaces, 4179 are those who made only one time purchase throught Sep-Oct Period\n",
    "almost 1/3"
   ]
  },
  {
   "cell_type": "code",
   "execution_count": 7,
   "id": "39fd259c",
   "metadata": {},
   "outputs": [
    {
     "data": {
      "text/plain": [
       "19.10916195543731"
      ]
     },
     "execution_count": 7,
     "metadata": {},
     "output_type": "execute_result"
    }
   ],
   "source": [
    "a = len(customer_data[customer_data[\"PURCHASE_COUNT\"]==1]) # one time customer (One-Time Active)\n",
    "b = len(customer_data[customer_data[\"PURCHASE_COUNT\"]>0]) # Total customer who made purchase (Active)\n",
    "a/b * 55 # percentage from Active customer who made one time purchase"
   ]
  },
  {
   "cell_type": "code",
   "execution_count": 8,
   "id": "7c7991fa",
   "metadata": {},
   "outputs": [
    {
     "name": "stdout",
     "output_type": "stream",
     "text": [
      "0.4528499294909703 0.1901014420233817 0.357048628485648\n"
     ]
    }
   ],
   "source": [
    "reg_but_null = len(customer_data[customer_data[\"PURCHASE_COUNT\"]==0])\n",
    "reg_but_one = len(customer_data[customer_data[\"PURCHASE_COUNT\"]==1])\n",
    "reg_but_more = len(customer_data[customer_data[\"PURCHASE_COUNT\"]>1]) \n",
    "total = len(customer_data)\n",
    "\n",
    "a = reg_but_null/total  # percentage of register but not purchased\n",
    "b = reg_but_one/total  # percentage of register but purchased one time\n",
    "c = reg_but_more/total  # percentage of register but purchased more time\n",
    "print(a,b,c)"
   ]
  },
  {
   "cell_type": "code",
   "execution_count": 9,
   "id": "e1e3b943",
   "metadata": {},
   "outputs": [
    {
     "data": {
      "image/png": "[encoded data removed]",
      "text/plain": [
       "<Figure size 360x360 with 1 Axes>"
      ]
     },
     "metadata": {},
     "output_type": "display_data"
    }
   ],
   "source": [
    "counts = [a,b,c]\n",
    "labels = ['Register But Not Purchased', 'Registerd But One Time Purchase', 'Register But More Purchase']\n",
    "fig, ax = plt.subplots(figsize=(5, 5))\n",
    "ax.pie(counts, labels=labels, autopct='%1.1f%%', shadow=True)\n",
    "ax.axis('equal')\n",
    "plt.show()"
   ]
  },
  {
   "cell_type": "markdown",
   "id": "9be06aee",
   "metadata": {},
   "source": [
    "## Country wise number of customers and purchase counts\n",
    "\n",
    "- out of 59 countries 40 countries have the customer who registered but didn't made any purchase \n",
    "- 19 countries have customers that made purchases\n",
    "- Majority of customers are from Denmark, Finland and Greece"
   ]
  },
  {
   "cell_type": "code",
   "execution_count": 10,
   "id": "17dbe4aa",
   "metadata": {
    "scrolled": true
   },
   "outputs": [
    {
     "name": "stdout",
     "output_type": "stream",
     "text": [
      "Total Number Countries 59\n"
     ]
    },
    {
     "data": {
      "text/html": [
       "<div>\n",
       "<style scoped>\n",
       "    .dataframe tbody tr th:only-of-type {\n",
       "        vertical-align: middle;\n",
       "    }\n",
       "\n",
       "    .dataframe tbody tr th {\n",
       "        vertical-align: top;\n",
       "    }\n",
       "\n",
       "    .dataframe thead th {\n",
       "        text-align: right;\n",
       "    }\n",
       "</style>\n",
       "<table border=\"1\" class=\"dataframe\">\n",
       "  <thead>\n",
       "    <tr style=\"text-align: right;\">\n",
       "      <th></th>\n",
       "      <th>NUM_USERS</th>\n",
       "    </tr>\n",
       "    <tr>\n",
       "      <th>REGISTRATION_COUNTRY</th>\n",
       "      <th></th>\n",
       "    </tr>\n",
       "  </thead>\n",
       "  <tbody>\n",
       "    <tr>\n",
       "      <th>ARE</th>\n",
       "      <td>6</td>\n",
       "    </tr>\n",
       "    <tr>\n",
       "      <th>AUS</th>\n",
       "      <td>11</td>\n",
       "    </tr>\n",
       "    <tr>\n",
       "      <th>AUT</th>\n",
       "      <td>5</td>\n",
       "    </tr>\n",
       "    <tr>\n",
       "      <th>AZE</th>\n",
       "      <td>2</td>\n",
       "    </tr>\n",
       "    <tr>\n",
       "      <th>BEL</th>\n",
       "      <td>11</td>\n",
       "    </tr>\n",
       "  </tbody>\n",
       "</table>\n",
       "</div>"
      ],
      "text/plain": [
       "                      NUM_USERS\n",
       "REGISTRATION_COUNTRY           \n",
       "ARE                           6\n",
       "AUS                          11\n",
       "AUT                           5\n",
       "AZE                           2\n",
       "BEL                          11"
      ]
     },
     "execution_count": 10,
     "metadata": {},
     "output_type": "execute_result"
    }
   ],
   "source": [
    "country_customer_count = pd.DataFrame(customer_data_orig.groupby('REGISTRATION_COUNTRY')['USER_ID'].count())\n",
    "country_customer_count.rename(columns= {'USER_ID':'NUM_USERS'},inplace=True)\n",
    "print('Total Number Countries',len(country_customer_count))\n",
    "country_customer_count.head()"
   ]
  },
  {
   "cell_type": "code",
   "execution_count": 11,
   "id": "c953253a",
   "metadata": {},
   "outputs": [
    {
     "data": {
      "text/html": [
       "<div>\n",
       "<style scoped>\n",
       "    .dataframe tbody tr th:only-of-type {\n",
       "        vertical-align: middle;\n",
       "    }\n",
       "\n",
       "    .dataframe tbody tr th {\n",
       "        vertical-align: top;\n",
       "    }\n",
       "\n",
       "    .dataframe thead th {\n",
       "        text-align: right;\n",
       "    }\n",
       "</style>\n",
       "<table border=\"1\" class=\"dataframe\">\n",
       "  <thead>\n",
       "    <tr style=\"text-align: right;\">\n",
       "      <th></th>\n",
       "      <th>PURCHASE_COUNT</th>\n",
       "    </tr>\n",
       "    <tr>\n",
       "      <th>REGISTRATION_COUNTRY</th>\n",
       "      <th></th>\n",
       "    </tr>\n",
       "  </thead>\n",
       "  <tbody>\n",
       "    <tr>\n",
       "      <th>ARE</th>\n",
       "      <td>2</td>\n",
       "    </tr>\n",
       "    <tr>\n",
       "      <th>AUS</th>\n",
       "      <td>0</td>\n",
       "    </tr>\n",
       "    <tr>\n",
       "      <th>AUT</th>\n",
       "      <td>0</td>\n",
       "    </tr>\n",
       "    <tr>\n",
       "      <th>AZE</th>\n",
       "      <td>0</td>\n",
       "    </tr>\n",
       "    <tr>\n",
       "      <th>BEL</th>\n",
       "      <td>0</td>\n",
       "    </tr>\n",
       "  </tbody>\n",
       "</table>\n",
       "</div>"
      ],
      "text/plain": [
       "                      PURCHASE_COUNT\n",
       "REGISTRATION_COUNTRY                \n",
       "ARE                                2\n",
       "AUS                                0\n",
       "AUT                                0\n",
       "AZE                                0\n",
       "BEL                                0"
      ]
     },
     "execution_count": 11,
     "metadata": {},
     "output_type": "execute_result"
    }
   ],
   "source": [
    "country_purchase_group = pd.DataFrame(customer_data_orig.groupby('REGISTRATION_COUNTRY')['PURCHASE_COUNT'].sum())\n",
    "country_purchase_group.head()"
   ]
  },
  {
   "cell_type": "code",
   "execution_count": 12,
   "id": "70853eff",
   "metadata": {},
   "outputs": [
    {
     "data": {
      "text/html": [
       "<div>\n",
       "<style scoped>\n",
       "    .dataframe tbody tr th:only-of-type {\n",
       "        vertical-align: middle;\n",
       "    }\n",
       "\n",
       "    .dataframe tbody tr th {\n",
       "        vertical-align: top;\n",
       "    }\n",
       "\n",
       "    .dataframe thead th {\n",
       "        text-align: right;\n",
       "    }\n",
       "</style>\n",
       "<table border=\"1\" class=\"dataframe\">\n",
       "  <thead>\n",
       "    <tr style=\"text-align: right;\">\n",
       "      <th></th>\n",
       "      <th>NUM_USERS</th>\n",
       "      <th>PURCHASE_COUNT</th>\n",
       "    </tr>\n",
       "    <tr>\n",
       "      <th>REGISTRATION_COUNTRY</th>\n",
       "      <th></th>\n",
       "      <th></th>\n",
       "    </tr>\n",
       "  </thead>\n",
       "  <tbody>\n",
       "    <tr>\n",
       "      <th>ARE</th>\n",
       "      <td>6</td>\n",
       "      <td>2</td>\n",
       "    </tr>\n",
       "    <tr>\n",
       "      <th>AUS</th>\n",
       "      <td>11</td>\n",
       "      <td>0</td>\n",
       "    </tr>\n",
       "    <tr>\n",
       "      <th>AUT</th>\n",
       "      <td>5</td>\n",
       "      <td>0</td>\n",
       "    </tr>\n",
       "    <tr>\n",
       "      <th>AZE</th>\n",
       "      <td>2</td>\n",
       "      <td>0</td>\n",
       "    </tr>\n",
       "    <tr>\n",
       "      <th>BEL</th>\n",
       "      <td>11</td>\n",
       "      <td>0</td>\n",
       "    </tr>\n",
       "  </tbody>\n",
       "</table>\n",
       "</div>"
      ],
      "text/plain": [
       "                      NUM_USERS  PURCHASE_COUNT\n",
       "REGISTRATION_COUNTRY                           \n",
       "ARE                           6               2\n",
       "AUS                          11               0\n",
       "AUT                           5               0\n",
       "AZE                           2               0\n",
       "BEL                          11               0"
      ]
     },
     "execution_count": 12,
     "metadata": {},
     "output_type": "execute_result"
    }
   ],
   "source": [
    "# Merging the data to get the country wise number of users and the total purchase count\n",
    "num_user_pur_count = pd.merge(country_customer_count,country_purchase_group,on='REGISTRATION_COUNTRY')\n",
    "num_user_pur_count.head()"
   ]
  },
  {
   "cell_type": "code",
   "execution_count": 13,
   "id": "2b5d73aa",
   "metadata": {},
   "outputs": [
    {
     "name": "stdout",
     "output_type": "stream",
     "text": [
      "['AUS', 'AUT', 'AZE', 'BEL', 'BRA', 'CHE', 'CHL', 'CHN', 'COL', 'ESP', 'FRO', 'GEO', 'GIN', 'HKG', 'IND', 'IRL', 'ISL', 'ITA', 'JOR', 'JPN', 'KOR', 'KWT', 'LBN', 'MEX', 'MLT', 'NLD', 'PAK', 'PHL', 'PRT', 'QAT', 'ROU', 'RUS', 'SAU', 'SGP', 'SVK', 'SVN', 'TUR', 'TWN', 'UKR', 'USA']\n",
      "Countries Where User Registered But didn't Purchased:  40\n"
     ]
    }
   ],
   "source": [
    "# The countries Where user only registerd but didn't Purchased Anything\n",
    "temp = num_user_pur_count[num_user_pur_count['PURCHASE_COUNT']==0]\n",
    "print(temp.index.to_list())\n",
    "print(\"Countries Where User Registered But didn't Purchased: \" , len(temp))"
   ]
  },
  {
   "cell_type": "markdown",
   "id": "ab171747",
   "metadata": {},
   "source": [
    "## Proceeding with data of only Customers who made purchases"
   ]
  },
  {
   "cell_type": "code",
   "execution_count": 14,
   "id": "c82d3421",
   "metadata": {},
   "outputs": [
    {
     "data": {
      "text/html": [
       "<div>\n",
       "<style scoped>\n",
       "    .dataframe tbody tr th:only-of-type {\n",
       "        vertical-align: middle;\n",
       "    }\n",
       "\n",
       "    .dataframe tbody tr th {\n",
       "        vertical-align: top;\n",
       "    }\n",
       "\n",
       "    .dataframe thead th {\n",
       "        text-align: right;\n",
       "    }\n",
       "</style>\n",
       "<table border=\"1\" class=\"dataframe\">\n",
       "  <thead>\n",
       "    <tr style=\"text-align: right;\">\n",
       "      <th></th>\n",
       "      <th>REGISTRATION_DATE</th>\n",
       "      <th>REGISTRATION_COUNTRY</th>\n",
       "      <th>PURCHASE_COUNT</th>\n",
       "      <th>PURCHASE_COUNT_DELIVERY</th>\n",
       "      <th>PURCHASE_COUNT_TAKEAWAY</th>\n",
       "      <th>FIRST_PURCHASE_DAY</th>\n",
       "      <th>LAST_PURCHASE_DAY</th>\n",
       "      <th>USER_ID</th>\n",
       "      <th>BREAKFAST_PURCHASES</th>\n",
       "      <th>LUNCH_PURCHASES</th>\n",
       "      <th>...</th>\n",
       "      <th>WEB_PURCHASES</th>\n",
       "      <th>ANDROID_PURCHASES</th>\n",
       "      <th>PREFERRED_RESTAURANT_TYPES</th>\n",
       "      <th>USER_HAS_VALID_PAYMENT_METHOD</th>\n",
       "      <th>MOST_COMMON_HOUR_OF_THE_DAY_TO_PURCHASE</th>\n",
       "      <th>MOST_COMMON_WEEKDAY_TO_PURCHASE</th>\n",
       "      <th>AVG_DAYS_BETWEEN_PURCHASES</th>\n",
       "      <th>MEDIAN_DAYS_BETWEEN_PURCHASES</th>\n",
       "      <th>AVERAGE_DELIVERY_DISTANCE_KMS</th>\n",
       "      <th>PURCHASE_COUNT_BY_STORE_TYPE</th>\n",
       "    </tr>\n",
       "  </thead>\n",
       "  <tbody>\n",
       "    <tr>\n",
       "      <th>1</th>\n",
       "      <td>2019-09-01 00:00:00.000</td>\n",
       "      <td>FIN</td>\n",
       "      <td>1</td>\n",
       "      <td>1.0</td>\n",
       "      <td>0.0</td>\n",
       "      <td>2020-09-02 00:00:00.000</td>\n",
       "      <td>2020-09-02 00:00:00.000</td>\n",
       "      <td>2</td>\n",
       "      <td>0.0</td>\n",
       "      <td>1.0</td>\n",
       "      <td>...</td>\n",
       "      <td>0.0</td>\n",
       "      <td>1.0</td>\n",
       "      <td>NaN</td>\n",
       "      <td>False</td>\n",
       "      <td>23.0</td>\n",
       "      <td>2.0</td>\n",
       "      <td>NaN</td>\n",
       "      <td>NaN</td>\n",
       "      <td>6.853</td>\n",
       "      <td>{\\n  \"General merchandise\": 0,\\n  \"Grocery\": 0...</td>\n",
       "    </tr>\n",
       "    <tr>\n",
       "      <th>2</th>\n",
       "      <td>2019-09-01 00:00:00.000</td>\n",
       "      <td>DNK</td>\n",
       "      <td>19</td>\n",
       "      <td>19.0</td>\n",
       "      <td>0.0</td>\n",
       "      <td>2019-12-10 00:00:00.000</td>\n",
       "      <td>2020-05-25 00:00:00.000</td>\n",
       "      <td>3</td>\n",
       "      <td>0.0</td>\n",
       "      <td>4.0</td>\n",
       "      <td>...</td>\n",
       "      <td>19.0</td>\n",
       "      <td>0.0</td>\n",
       "      <td>NaN</td>\n",
       "      <td>True</td>\n",
       "      <td>21.0</td>\n",
       "      <td>2.0</td>\n",
       "      <td>9.0</td>\n",
       "      <td>3.0</td>\n",
       "      <td>6.559</td>\n",
       "      <td>{\\n  \"General merchandise\": 1,\\n  \"Grocery\": 9...</td>\n",
       "    </tr>\n",
       "    <tr>\n",
       "      <th>7</th>\n",
       "      <td>2019-09-01 00:00:00.000</td>\n",
       "      <td>FIN</td>\n",
       "      <td>1</td>\n",
       "      <td>1.0</td>\n",
       "      <td>0.0</td>\n",
       "      <td>2020-10-14 00:00:00.000</td>\n",
       "      <td>2020-10-14 00:00:00.000</td>\n",
       "      <td>8</td>\n",
       "      <td>0.0</td>\n",
       "      <td>0.0</td>\n",
       "      <td>...</td>\n",
       "      <td>0.0</td>\n",
       "      <td>1.0</td>\n",
       "      <td>NaN</td>\n",
       "      <td>True</td>\n",
       "      <td>5.0</td>\n",
       "      <td>1.0</td>\n",
       "      <td>NaN</td>\n",
       "      <td>NaN</td>\n",
       "      <td>1.251</td>\n",
       "      <td>{\\n  \"General merchandise\": 0,\\n  \"Grocery\": 0...</td>\n",
       "    </tr>\n",
       "    <tr>\n",
       "      <th>12</th>\n",
       "      <td>2019-09-01 00:00:00.000</td>\n",
       "      <td>FIN</td>\n",
       "      <td>19</td>\n",
       "      <td>19.0</td>\n",
       "      <td>0.0</td>\n",
       "      <td>2020-04-18 00:00:00.000</td>\n",
       "      <td>2020-10-27 00:00:00.000</td>\n",
       "      <td>13</td>\n",
       "      <td>0.0</td>\n",
       "      <td>8.0</td>\n",
       "      <td>...</td>\n",
       "      <td>0.0</td>\n",
       "      <td>0.0</td>\n",
       "      <td>NaN</td>\n",
       "      <td>True</td>\n",
       "      <td>7.0</td>\n",
       "      <td>3.0</td>\n",
       "      <td>11.0</td>\n",
       "      <td>9.0</td>\n",
       "      <td>3.303</td>\n",
       "      <td>{\\n  \"General merchandise\": 1,\\n  \"Grocery\": 9...</td>\n",
       "    </tr>\n",
       "    <tr>\n",
       "      <th>13</th>\n",
       "      <td>2019-09-01 00:00:00.000</td>\n",
       "      <td>FIN</td>\n",
       "      <td>2</td>\n",
       "      <td>2.0</td>\n",
       "      <td>0.0</td>\n",
       "      <td>2020-08-21 00:00:00.000</td>\n",
       "      <td>2020-09-09 00:00:00.000</td>\n",
       "      <td>14</td>\n",
       "      <td>0.0</td>\n",
       "      <td>1.0</td>\n",
       "      <td>...</td>\n",
       "      <td>0.0</td>\n",
       "      <td>2.0</td>\n",
       "      <td>[\\n  \"american\"\\n]</td>\n",
       "      <td>False</td>\n",
       "      <td>5.0</td>\n",
       "      <td>6.0</td>\n",
       "      <td>19.0</td>\n",
       "      <td>19.0</td>\n",
       "      <td>1.382</td>\n",
       "      <td>{\\n  \"General merchandise\": 0,\\n  \"Grocery\": 0...</td>\n",
       "    </tr>\n",
       "  </tbody>\n",
       "</table>\n",
       "<p>5 rows × 30 columns</p>\n",
       "</div>"
      ],
      "text/plain": [
       "          REGISTRATION_DATE REGISTRATION_COUNTRY  PURCHASE_COUNT  \\\n",
       "1   2019-09-01 00:00:00.000                  FIN               1   \n",
       "2   2019-09-01 00:00:00.000                  DNK              19   \n",
       "7   2019-09-01 00:00:00.000                  FIN               1   \n",
       "12  2019-09-01 00:00:00.000                  FIN              19   \n",
       "13  2019-09-01 00:00:00.000                  FIN               2   \n",
       "\n",
       "    PURCHASE_COUNT_DELIVERY  PURCHASE_COUNT_TAKEAWAY       FIRST_PURCHASE_DAY  \\\n",
       "1                       1.0                      0.0  2020-09-02 00:00:00.000   \n",
       "2                      19.0                      0.0  2019-12-10 00:00:00.000   \n",
       "7                       1.0                      0.0  2020-10-14 00:00:00.000   \n",
       "12                     19.0                      0.0  2020-04-18 00:00:00.000   \n",
       "13                      2.0                      0.0  2020-08-21 00:00:00.000   \n",
       "\n",
       "          LAST_PURCHASE_DAY  USER_ID  BREAKFAST_PURCHASES  LUNCH_PURCHASES  \\\n",
       "1   2020-09-02 00:00:00.000        2                  0.0              1.0   \n",
       "2   2020-05-25 00:00:00.000        3                  0.0              4.0   \n",
       "7   2020-10-14 00:00:00.000        8                  0.0              0.0   \n",
       "12  2020-10-27 00:00:00.000       13                  0.0              8.0   \n",
       "13  2020-09-09 00:00:00.000       14                  0.0              1.0   \n",
       "\n",
       "    ...  WEB_PURCHASES  ANDROID_PURCHASES  PREFERRED_RESTAURANT_TYPES  \\\n",
       "1   ...            0.0                1.0                         NaN   \n",
       "2   ...           19.0                0.0                         NaN   \n",
       "7   ...            0.0                1.0                         NaN   \n",
       "12  ...            0.0                0.0                         NaN   \n",
       "13  ...            0.0                2.0          [\\n  \"american\"\\n]   \n",
       "\n",
       "    USER_HAS_VALID_PAYMENT_METHOD  MOST_COMMON_HOUR_OF_THE_DAY_TO_PURCHASE  \\\n",
       "1                           False                                     23.0   \n",
       "2                            True                                     21.0   \n",
       "7                            True                                      5.0   \n",
       "12                           True                                      7.0   \n",
       "13                          False                                      5.0   \n",
       "\n",
       "    MOST_COMMON_WEEKDAY_TO_PURCHASE  AVG_DAYS_BETWEEN_PURCHASES  \\\n",
       "1                               2.0                         NaN   \n",
       "2                               2.0                         9.0   \n",
       "7                               1.0                         NaN   \n",
       "12                              3.0                        11.0   \n",
       "13                              6.0                        19.0   \n",
       "\n",
       "    MEDIAN_DAYS_BETWEEN_PURCHASES AVERAGE_DELIVERY_DISTANCE_KMS  \\\n",
       "1                             NaN                         6.853   \n",
       "2                             3.0                         6.559   \n",
       "7                             NaN                         1.251   \n",
       "12                            9.0                         3.303   \n",
       "13                           19.0                         1.382   \n",
       "\n",
       "                         PURCHASE_COUNT_BY_STORE_TYPE  \n",
       "1   {\\n  \"General merchandise\": 0,\\n  \"Grocery\": 0...  \n",
       "2   {\\n  \"General merchandise\": 1,\\n  \"Grocery\": 9...  \n",
       "7   {\\n  \"General merchandise\": 0,\\n  \"Grocery\": 0...  \n",
       "12  {\\n  \"General merchandise\": 1,\\n  \"Grocery\": 9...  \n",
       "13  {\\n  \"General merchandise\": 0,\\n  \"Grocery\": 0...  \n",
       "\n",
       "[5 rows x 30 columns]"
      ]
     },
     "execution_count": 14,
     "metadata": {},
     "output_type": "execute_result"
    }
   ],
   "source": [
    "# Only Customer Data who registed and made purchase\n",
    "customer_data_reg= customer_data_orig[customer_data_orig['PURCHASE_COUNT'] != 0]\n",
    "customer_data_reg.head()"
   ]
  },
  {
   "cell_type": "markdown",
   "id": "aa860092",
   "metadata": {},
   "source": [
    "### Finland, Denmark, Greece are the countries with most of the customers and purchase count"
   ]
  },
  {
   "cell_type": "code",
   "execution_count": 15,
   "id": "47989206",
   "metadata": {},
   "outputs": [
    {
     "data": {
      "text/html": [
       "<div>\n",
       "<style scoped>\n",
       "    .dataframe tbody tr th:only-of-type {\n",
       "        vertical-align: middle;\n",
       "    }\n",
       "\n",
       "    .dataframe tbody tr th {\n",
       "        vertical-align: top;\n",
       "    }\n",
       "\n",
       "    .dataframe thead th {\n",
       "        text-align: right;\n",
       "    }\n",
       "</style>\n",
       "<table border=\"1\" class=\"dataframe\">\n",
       "  <thead>\n",
       "    <tr style=\"text-align: right;\">\n",
       "      <th></th>\n",
       "      <th>TOTAL_USER_COUNT</th>\n",
       "      <th>PURCHASE_COUNT</th>\n",
       "    </tr>\n",
       "    <tr>\n",
       "      <th>REGISTRATION_COUNTRY</th>\n",
       "      <th></th>\n",
       "      <th></th>\n",
       "    </tr>\n",
       "  </thead>\n",
       "  <tbody>\n",
       "    <tr>\n",
       "      <th>ARE</th>\n",
       "      <td>1</td>\n",
       "      <td>2</td>\n",
       "    </tr>\n",
       "    <tr>\n",
       "      <th>CAN</th>\n",
       "      <td>1</td>\n",
       "      <td>5</td>\n",
       "    </tr>\n",
       "    <tr>\n",
       "      <th>CYP</th>\n",
       "      <td>1</td>\n",
       "      <td>3</td>\n",
       "    </tr>\n",
       "    <tr>\n",
       "      <th>CZE</th>\n",
       "      <td>4</td>\n",
       "      <td>46</td>\n",
       "    </tr>\n",
       "    <tr>\n",
       "      <th>DEU</th>\n",
       "      <td>1</td>\n",
       "      <td>2</td>\n",
       "    </tr>\n",
       "    <tr>\n",
       "      <th>DNK</th>\n",
       "      <td>4985</td>\n",
       "      <td>28222</td>\n",
       "    </tr>\n",
       "    <tr>\n",
       "      <th>EST</th>\n",
       "      <td>13</td>\n",
       "      <td>85</td>\n",
       "    </tr>\n",
       "    <tr>\n",
       "      <th>FIN</th>\n",
       "      <td>5451</td>\n",
       "      <td>34634</td>\n",
       "    </tr>\n",
       "    <tr>\n",
       "      <th>FRA</th>\n",
       "      <td>2</td>\n",
       "      <td>3</td>\n",
       "    </tr>\n",
       "    <tr>\n",
       "      <th>GBR</th>\n",
       "      <td>2</td>\n",
       "      <td>17</td>\n",
       "    </tr>\n",
       "    <tr>\n",
       "      <th>GRC</th>\n",
       "      <td>1532</td>\n",
       "      <td>10380</td>\n",
       "    </tr>\n",
       "    <tr>\n",
       "      <th>HRV</th>\n",
       "      <td>1</td>\n",
       "      <td>6</td>\n",
       "    </tr>\n",
       "    <tr>\n",
       "      <th>HUN</th>\n",
       "      <td>5</td>\n",
       "      <td>12</td>\n",
       "    </tr>\n",
       "    <tr>\n",
       "      <th>ISR</th>\n",
       "      <td>3</td>\n",
       "      <td>16</td>\n",
       "    </tr>\n",
       "    <tr>\n",
       "      <th>LTU</th>\n",
       "      <td>2</td>\n",
       "      <td>24</td>\n",
       "    </tr>\n",
       "    <tr>\n",
       "      <th>LVA</th>\n",
       "      <td>3</td>\n",
       "      <td>41</td>\n",
       "    </tr>\n",
       "    <tr>\n",
       "      <th>NOR</th>\n",
       "      <td>13</td>\n",
       "      <td>29</td>\n",
       "    </tr>\n",
       "    <tr>\n",
       "      <th>POL</th>\n",
       "      <td>4</td>\n",
       "      <td>8</td>\n",
       "    </tr>\n",
       "    <tr>\n",
       "      <th>SWE</th>\n",
       "      <td>4</td>\n",
       "      <td>6</td>\n",
       "    </tr>\n",
       "  </tbody>\n",
       "</table>\n",
       "</div>"
      ],
      "text/plain": [
       "                      TOTAL_USER_COUNT  PURCHASE_COUNT\n",
       "REGISTRATION_COUNTRY                                  \n",
       "ARE                                  1               2\n",
       "CAN                                  1               5\n",
       "CYP                                  1               3\n",
       "CZE                                  4              46\n",
       "DEU                                  1               2\n",
       "DNK                               4985           28222\n",
       "EST                                 13              85\n",
       "FIN                               5451           34634\n",
       "FRA                                  2               3\n",
       "GBR                                  2              17\n",
       "GRC                               1532           10380\n",
       "HRV                                  1               6\n",
       "HUN                                  5              12\n",
       "ISR                                  3              16\n",
       "LTU                                  2              24\n",
       "LVA                                  3              41\n",
       "NOR                                 13              29\n",
       "POL                                  4               8\n",
       "SWE                                  4               6"
      ]
     },
     "execution_count": 15,
     "metadata": {},
     "output_type": "execute_result"
    }
   ],
   "source": [
    "TEMP = customer_data_reg.groupby('REGISTRATION_COUNTRY')['USER_ID'].count()\n",
    "TEMP2 = customer_data_reg.groupby('REGISTRATION_COUNTRY')['PURCHASE_COUNT'].sum()\n",
    "count_user_purch = pd.merge(TEMP,TEMP2, on='REGISTRATION_COUNTRY').rename(columns={'USER_ID':'TOTAL_USER_COUNT'})\n",
    "count_user_purch"
   ]
  },
  {
   "cell_type": "markdown",
   "id": "32a63c7e",
   "metadata": {},
   "source": [
    "### Analyzing Top three \n",
    "It can be seen below that even though the Greece has the low user count as compare to other Top 3 countries but its \n",
    "purchase to user ratio is high which means that the other two countries have more one time customers as compared to Greece"
   ]
  },
  {
   "cell_type": "code",
   "execution_count": 16,
   "id": "6e7b17fd",
   "metadata": {},
   "outputs": [
    {
     "data": {
      "text/html": [
       "<div>\n",
       "<style scoped>\n",
       "    .dataframe tbody tr th:only-of-type {\n",
       "        vertical-align: middle;\n",
       "    }\n",
       "\n",
       "    .dataframe tbody tr th {\n",
       "        vertical-align: top;\n",
       "    }\n",
       "\n",
       "    .dataframe thead th {\n",
       "        text-align: right;\n",
       "    }\n",
       "</style>\n",
       "<table border=\"1\" class=\"dataframe\">\n",
       "  <thead>\n",
       "    <tr style=\"text-align: right;\">\n",
       "      <th></th>\n",
       "      <th>TOTAL_USER_COUNT</th>\n",
       "      <th>PURCHASE_COUNT</th>\n",
       "      <th>pur_to_user_ratio</th>\n",
       "    </tr>\n",
       "    <tr>\n",
       "      <th>REGISTRATION_COUNTRY</th>\n",
       "      <th></th>\n",
       "      <th></th>\n",
       "      <th></th>\n",
       "    </tr>\n",
       "  </thead>\n",
       "  <tbody>\n",
       "    <tr>\n",
       "      <th>FIN</th>\n",
       "      <td>5451</td>\n",
       "      <td>34634</td>\n",
       "      <td>6.353697</td>\n",
       "    </tr>\n",
       "    <tr>\n",
       "      <th>DNK</th>\n",
       "      <td>4985</td>\n",
       "      <td>28222</td>\n",
       "      <td>5.661384</td>\n",
       "    </tr>\n",
       "    <tr>\n",
       "      <th>GRC</th>\n",
       "      <td>1532</td>\n",
       "      <td>10380</td>\n",
       "      <td>6.775457</td>\n",
       "    </tr>\n",
       "  </tbody>\n",
       "</table>\n",
       "</div>"
      ],
      "text/plain": [
       "                      TOTAL_USER_COUNT  PURCHASE_COUNT  pur_to_user_ratio\n",
       "REGISTRATION_COUNTRY                                                     \n",
       "FIN                               5451           34634           6.353697\n",
       "DNK                               4985           28222           5.661384\n",
       "GRC                               1532           10380           6.775457"
      ]
     },
     "execution_count": 16,
     "metadata": {},
     "output_type": "execute_result"
    }
   ],
   "source": [
    "count_user_purch['pur_to_user_ratio'] = count_user_purch['PURCHASE_COUNT']/count_user_purch['TOTAL_USER_COUNT']\n",
    "count_user_purch.loc[['FIN','DNK','GRC']]"
   ]
  },
  {
   "cell_type": "code",
   "execution_count": 17,
   "id": "8053cc48",
   "metadata": {},
   "outputs": [],
   "source": [
    "top3_1 = count_user_purch.loc[['FIN','DNK','GRC']]"
   ]
  },
  {
   "cell_type": "markdown",
   "id": "8e76c7d4",
   "metadata": {},
   "source": [
    "### Analyzing one time customers  and other country wise"
   ]
  },
  {
   "cell_type": "code",
   "execution_count": 18,
   "id": "ef37f117",
   "metadata": {},
   "outputs": [
    {
     "data": {
      "text/html": [
       "<div>\n",
       "<style scoped>\n",
       "    .dataframe tbody tr th:only-of-type {\n",
       "        vertical-align: middle;\n",
       "    }\n",
       "\n",
       "    .dataframe tbody tr th {\n",
       "        vertical-align: top;\n",
       "    }\n",
       "\n",
       "    .dataframe thead th {\n",
       "        text-align: right;\n",
       "    }\n",
       "</style>\n",
       "<table border=\"1\" class=\"dataframe\">\n",
       "  <thead>\n",
       "    <tr style=\"text-align: right;\">\n",
       "      <th></th>\n",
       "      <th>ONE_TIME_USER_COUNT</th>\n",
       "      <th>ONE_TIME_USER_PUR_COUNT</th>\n",
       "    </tr>\n",
       "    <tr>\n",
       "      <th>REGISTRATION_COUNTRY</th>\n",
       "      <th></th>\n",
       "      <th></th>\n",
       "    </tr>\n",
       "  </thead>\n",
       "  <tbody>\n",
       "    <tr>\n",
       "      <th>ARE</th>\n",
       "      <td>1</td>\n",
       "      <td>2</td>\n",
       "    </tr>\n",
       "    <tr>\n",
       "      <th>CAN</th>\n",
       "      <td>1</td>\n",
       "      <td>5</td>\n",
       "    </tr>\n",
       "    <tr>\n",
       "      <th>CYP</th>\n",
       "      <td>1</td>\n",
       "      <td>3</td>\n",
       "    </tr>\n",
       "    <tr>\n",
       "      <th>CZE</th>\n",
       "      <td>3</td>\n",
       "      <td>45</td>\n",
       "    </tr>\n",
       "    <tr>\n",
       "      <th>DEU</th>\n",
       "      <td>1</td>\n",
       "      <td>2</td>\n",
       "    </tr>\n",
       "    <tr>\n",
       "      <th>DNK</th>\n",
       "      <td>3265</td>\n",
       "      <td>26502</td>\n",
       "    </tr>\n",
       "    <tr>\n",
       "      <th>EST</th>\n",
       "      <td>10</td>\n",
       "      <td>82</td>\n",
       "    </tr>\n",
       "    <tr>\n",
       "      <th>FIN</th>\n",
       "      <td>3582</td>\n",
       "      <td>32765</td>\n",
       "    </tr>\n",
       "    <tr>\n",
       "      <th>FRA</th>\n",
       "      <td>1</td>\n",
       "      <td>2</td>\n",
       "    </tr>\n",
       "    <tr>\n",
       "      <th>GBR</th>\n",
       "      <td>2</td>\n",
       "      <td>17</td>\n",
       "    </tr>\n",
       "    <tr>\n",
       "      <th>GRC</th>\n",
       "      <td>958</td>\n",
       "      <td>9806</td>\n",
       "    </tr>\n",
       "    <tr>\n",
       "      <th>HRV</th>\n",
       "      <td>1</td>\n",
       "      <td>6</td>\n",
       "    </tr>\n",
       "    <tr>\n",
       "      <th>HUN</th>\n",
       "      <td>5</td>\n",
       "      <td>12</td>\n",
       "    </tr>\n",
       "    <tr>\n",
       "      <th>ISR</th>\n",
       "      <td>3</td>\n",
       "      <td>16</td>\n",
       "    </tr>\n",
       "    <tr>\n",
       "      <th>LTU</th>\n",
       "      <td>2</td>\n",
       "      <td>24</td>\n",
       "    </tr>\n",
       "    <tr>\n",
       "      <th>LVA</th>\n",
       "      <td>3</td>\n",
       "      <td>41</td>\n",
       "    </tr>\n",
       "    <tr>\n",
       "      <th>NOR</th>\n",
       "      <td>6</td>\n",
       "      <td>22</td>\n",
       "    </tr>\n",
       "    <tr>\n",
       "      <th>POL</th>\n",
       "      <td>2</td>\n",
       "      <td>6</td>\n",
       "    </tr>\n",
       "    <tr>\n",
       "      <th>SWE</th>\n",
       "      <td>2</td>\n",
       "      <td>4</td>\n",
       "    </tr>\n",
       "  </tbody>\n",
       "</table>\n",
       "</div>"
      ],
      "text/plain": [
       "                      ONE_TIME_USER_COUNT  ONE_TIME_USER_PUR_COUNT\n",
       "REGISTRATION_COUNTRY                                              \n",
       "ARE                                     1                        2\n",
       "CAN                                     1                        5\n",
       "CYP                                     1                        3\n",
       "CZE                                     3                       45\n",
       "DEU                                     1                        2\n",
       "DNK                                  3265                    26502\n",
       "EST                                    10                       82\n",
       "FIN                                  3582                    32765\n",
       "FRA                                     1                        2\n",
       "GBR                                     2                       17\n",
       "GRC                                   958                     9806\n",
       "HRV                                     1                        6\n",
       "HUN                                     5                       12\n",
       "ISR                                     3                       16\n",
       "LTU                                     2                       24\n",
       "LVA                                     3                       41\n",
       "NOR                                     6                       22\n",
       "POL                                     2                        6\n",
       "SWE                                     2                        4"
      ]
     },
     "execution_count": 18,
     "metadata": {},
     "output_type": "execute_result"
    }
   ],
   "source": [
    "temp = customer_data_reg[customer_data_reg['PURCHASE_COUNT']>1]\n",
    "TEMP = temp.groupby('REGISTRATION_COUNTRY')['USER_ID'].count()\n",
    "TEMP2 = temp.groupby('REGISTRATION_COUNTRY')['PURCHASE_COUNT'].sum()\n",
    "count_user_purch2 = pd.merge(TEMP,TEMP2, on='REGISTRATION_COUNTRY').rename(columns={'USER_ID':'USER_COUNT'})\n",
    "count_user_purch2 = count_user_purch2.rename(columns={'USER_COUNT': 'ONE_TIME_USER_COUNT','PURCHASE_COUNT': 'ONE_TIME_USER_PUR_COUNT'})\n",
    "count_user_purch2"
   ]
  },
  {
   "cell_type": "code",
   "execution_count": 19,
   "id": "fee94600",
   "metadata": {},
   "outputs": [
    {
     "data": {
      "text/html": [
       "<div>\n",
       "<style scoped>\n",
       "    .dataframe tbody tr th:only-of-type {\n",
       "        vertical-align: middle;\n",
       "    }\n",
       "\n",
       "    .dataframe tbody tr th {\n",
       "        vertical-align: top;\n",
       "    }\n",
       "\n",
       "    .dataframe thead th {\n",
       "        text-align: right;\n",
       "    }\n",
       "</style>\n",
       "<table border=\"1\" class=\"dataframe\">\n",
       "  <thead>\n",
       "    <tr style=\"text-align: right;\">\n",
       "      <th></th>\n",
       "      <th>ONE_TIME_USER_COUNT</th>\n",
       "      <th>ONE_TIME_USER_PUR_COUNT</th>\n",
       "    </tr>\n",
       "    <tr>\n",
       "      <th>REGISTRATION_COUNTRY</th>\n",
       "      <th></th>\n",
       "      <th></th>\n",
       "    </tr>\n",
       "  </thead>\n",
       "  <tbody>\n",
       "    <tr>\n",
       "      <th>FIN</th>\n",
       "      <td>3582</td>\n",
       "      <td>32765</td>\n",
       "    </tr>\n",
       "    <tr>\n",
       "      <th>DNK</th>\n",
       "      <td>3265</td>\n",
       "      <td>26502</td>\n",
       "    </tr>\n",
       "    <tr>\n",
       "      <th>GRC</th>\n",
       "      <td>958</td>\n",
       "      <td>9806</td>\n",
       "    </tr>\n",
       "  </tbody>\n",
       "</table>\n",
       "</div>"
      ],
      "text/plain": [
       "                      ONE_TIME_USER_COUNT  ONE_TIME_USER_PUR_COUNT\n",
       "REGISTRATION_COUNTRY                                              \n",
       "FIN                                  3582                    32765\n",
       "DNK                                  3265                    26502\n",
       "GRC                                   958                     9806"
      ]
     },
     "execution_count": 19,
     "metadata": {},
     "output_type": "execute_result"
    }
   ],
   "source": [
    "top3_2 = count_user_purch2.loc[['FIN','DNK','GRC']]\n",
    "top3_2"
   ]
  },
  {
   "cell_type": "code",
   "execution_count": 20,
   "id": "941c2409",
   "metadata": {},
   "outputs": [
    {
     "data": {
      "text/html": [
       "<div>\n",
       "<style scoped>\n",
       "    .dataframe tbody tr th:only-of-type {\n",
       "        vertical-align: middle;\n",
       "    }\n",
       "\n",
       "    .dataframe tbody tr th {\n",
       "        vertical-align: top;\n",
       "    }\n",
       "\n",
       "    .dataframe thead th {\n",
       "        text-align: right;\n",
       "    }\n",
       "</style>\n",
       "<table border=\"1\" class=\"dataframe\">\n",
       "  <thead>\n",
       "    <tr style=\"text-align: right;\">\n",
       "      <th></th>\n",
       "      <th>ONE_TIME_USER_COUNT</th>\n",
       "      <th>ONE_TIME_USER_PUR_COUNT</th>\n",
       "      <th>TOTAL_USER_COUNT</th>\n",
       "      <th>PURCHASE_COUNT</th>\n",
       "      <th>pur_to_user_ratio</th>\n",
       "      <th>OTHER_USER_COUNT</th>\n",
       "      <th>OTHER_USER_PUR_COUNT</th>\n",
       "    </tr>\n",
       "    <tr>\n",
       "      <th>REGISTRATION_COUNTRY</th>\n",
       "      <th></th>\n",
       "      <th></th>\n",
       "      <th></th>\n",
       "      <th></th>\n",
       "      <th></th>\n",
       "      <th></th>\n",
       "      <th></th>\n",
       "    </tr>\n",
       "  </thead>\n",
       "  <tbody>\n",
       "    <tr>\n",
       "      <th>FIN</th>\n",
       "      <td>3582</td>\n",
       "      <td>32765</td>\n",
       "      <td>5451</td>\n",
       "      <td>34634</td>\n",
       "      <td>6.353697</td>\n",
       "      <td>1869</td>\n",
       "      <td>1869</td>\n",
       "    </tr>\n",
       "    <tr>\n",
       "      <th>DNK</th>\n",
       "      <td>3265</td>\n",
       "      <td>26502</td>\n",
       "      <td>4985</td>\n",
       "      <td>28222</td>\n",
       "      <td>5.661384</td>\n",
       "      <td>1720</td>\n",
       "      <td>1720</td>\n",
       "    </tr>\n",
       "    <tr>\n",
       "      <th>GRC</th>\n",
       "      <td>958</td>\n",
       "      <td>9806</td>\n",
       "      <td>1532</td>\n",
       "      <td>10380</td>\n",
       "      <td>6.775457</td>\n",
       "      <td>574</td>\n",
       "      <td>574</td>\n",
       "    </tr>\n",
       "  </tbody>\n",
       "</table>\n",
       "</div>"
      ],
      "text/plain": [
       "                      ONE_TIME_USER_COUNT  ONE_TIME_USER_PUR_COUNT  \\\n",
       "REGISTRATION_COUNTRY                                                 \n",
       "FIN                                  3582                    32765   \n",
       "DNK                                  3265                    26502   \n",
       "GRC                                   958                     9806   \n",
       "\n",
       "                      TOTAL_USER_COUNT  PURCHASE_COUNT  pur_to_user_ratio  \\\n",
       "REGISTRATION_COUNTRY                                                        \n",
       "FIN                               5451           34634           6.353697   \n",
       "DNK                               4985           28222           5.661384   \n",
       "GRC                               1532           10380           6.775457   \n",
       "\n",
       "                      OTHER_USER_COUNT  OTHER_USER_PUR_COUNT  \n",
       "REGISTRATION_COUNTRY                                          \n",
       "FIN                               1869                  1869  \n",
       "DNK                               1720                  1720  \n",
       "GRC                                574                   574  "
      ]
     },
     "execution_count": 20,
     "metadata": {},
     "output_type": "execute_result"
    }
   ],
   "source": [
    "k = pd.merge(top3_2, top3_1  , on= 'REGISTRATION_COUNTRY')\n",
    "k['OTHER_USER_COUNT'] = k['TOTAL_USER_COUNT'] - k['ONE_TIME_USER_COUNT']\n",
    "k['OTHER_USER_PUR_COUNT'] =  k['PURCHASE_COUNT'] - k['ONE_TIME_USER_PUR_COUNT']\n",
    "k"
   ]
  },
  {
   "cell_type": "code",
   "execution_count": 21,
   "id": "9e7ee212",
   "metadata": {},
   "outputs": [
    {
     "data": {
      "text/plain": [
       "<AxesSubplot:title={'center':'Top3 Countries'}, xlabel='REGISTRATION_COUNTRY'>"
      ]
     },
     "execution_count": 21,
     "metadata": {},
     "output_type": "execute_result"
    },
    {
     "data": {
      "image/png": "[encoded data removed]",
      "text/plain": [
       "<Figure size 720x360 with 1 Axes>"
      ]
     },
     "metadata": {
      "needs_background": "light"
     },
     "output_type": "display_data"
    }
   ],
   "source": [
    "a = k[['ONE_TIME_USER_COUNT','OTHER_USER_COUNT','TOTAL_USER_COUNT']]\n",
    "a.plot(kind='bar',figsize=(10,5),title='Top3 Countries')"
   ]
  },
  {
   "cell_type": "markdown",
   "id": "e22fcf65",
   "metadata": {},
   "source": [
    "The countries have more one time users as compared to the other consistant customers"
   ]
  },
  {
   "cell_type": "code",
   "execution_count": 22,
   "id": "4da5ac22",
   "metadata": {},
   "outputs": [
    {
     "data": {
      "text/plain": [
       "<AxesSubplot:title={'center':'Top3 Countries'}, xlabel='REGISTRATION_COUNTRY'>"
      ]
     },
     "execution_count": 22,
     "metadata": {},
     "output_type": "execute_result"
    },
    {
     "data": {
      "image/png": "[encoded data removed]",
      "text/plain": [
       "<Figure size 720x360 with 1 Axes>"
      ]
     },
     "metadata": {
      "needs_background": "light"
     },
     "output_type": "display_data"
    }
   ],
   "source": [
    "a = k[['ONE_TIME_USER_PUR_COUNT','OTHER_USER_PUR_COUNT','PURCHASE_COUNT']]\n",
    "a.plot(kind='bar',figsize=(10,5),title='Top3 Countries')"
   ]
  },
  {
   "cell_type": "markdown",
   "id": "ab188d37",
   "metadata": {},
   "source": [
    "The Purchases made by customers in these countries are mostly done by one time customers"
   ]
  },
  {
   "cell_type": "markdown",
   "id": "c1612d07",
   "metadata": {},
   "source": [
    "## Valid Payment method "
   ]
  },
  {
   "cell_type": "code",
   "execution_count": 23,
   "id": "498694bd",
   "metadata": {},
   "outputs": [
    {
     "name": "stdout",
     "output_type": "stream",
     "text": [
      "Total Customer :  12028\n",
      "customer with valid Pay Method:  7117\n",
      "customer with Invalid Pay Method:  4911\n"
     ]
    }
   ],
   "source": [
    "print('Total Customer : ', len(customer_data_reg))\n",
    "print(\"customer with valid Pay Method: \" ,len(customer_data_reg[customer_data_reg['USER_HAS_VALID_PAYMENT_METHOD']==True])) \n",
    "print('customer with Invalid Pay Method: ', len(customer_data_reg) - len(customer_data_reg[customer_data_reg['USER_HAS_VALID_PAYMENT_METHOD']==True]))"
   ]
  },
  {
   "cell_type": "code",
   "execution_count": 24,
   "id": "75008cfb",
   "metadata": {},
   "outputs": [
    {
     "data": {
      "text/plain": [
       "(59.170269371466574, 40.829730628533426)"
      ]
     },
     "execution_count": 24,
     "metadata": {},
     "output_type": "execute_result"
    }
   ],
   "source": [
    "Total_Customer = len(customer_data_reg)\n",
    "Valid_pay_Customer = len(customer_data_reg[customer_data_reg['USER_HAS_VALID_PAYMENT_METHOD']==True])\n",
    "Invalid_pat_Customer = len(customer_data_reg) - len(customer_data_reg[customer_data_reg['USER_HAS_VALID_PAYMENT_METHOD']==True])\n",
    "\n",
    "a = Valid_pay_Customer/Total_Customer *100\n",
    "b = Invalid_pat_Customer/Total_Customer *100\n",
    "a,b"
   ]
  },
  {
   "cell_type": "markdown",
   "id": "ebec4a3f",
   "metadata": {},
   "source": [
    "59% of the customers uses valid payment method and 40 percent are with invalid payment method"
   ]
  },
  {
   "cell_type": "markdown",
   "id": "fdcd2225",
   "metadata": {},
   "source": [
    "#### The below table shows purchases done using the valid and invalide payment method by the user\n",
    "\n",
    "- Almost 1/3 of the total purchase and revenue(EUR) is from user with Invalid Payment method from sep-oct"
   ]
  },
  {
   "cell_type": "code",
   "execution_count": 25,
   "id": "844213f9",
   "metadata": {},
   "outputs": [
    {
     "data": {
      "text/html": [
       "<div>\n",
       "<style scoped>\n",
       "    .dataframe tbody tr th:only-of-type {\n",
       "        vertical-align: middle;\n",
       "    }\n",
       "\n",
       "    .dataframe tbody tr th {\n",
       "        vertical-align: top;\n",
       "    }\n",
       "\n",
       "    .dataframe thead th {\n",
       "        text-align: right;\n",
       "    }\n",
       "</style>\n",
       "<table border=\"1\" class=\"dataframe\">\n",
       "  <thead>\n",
       "    <tr style=\"text-align: right;\">\n",
       "      <th></th>\n",
       "      <th>PURCHASE_COUNT</th>\n",
       "      <th>TOTAL_PURCHASES_EUR</th>\n",
       "      <th>USER_COUNT</th>\n",
       "    </tr>\n",
       "    <tr>\n",
       "      <th>USER_HAS_VALID_PAYMENT_METHOD</th>\n",
       "      <th></th>\n",
       "      <th></th>\n",
       "      <th></th>\n",
       "    </tr>\n",
       "  </thead>\n",
       "  <tbody>\n",
       "    <tr>\n",
       "      <th>False</th>\n",
       "      <td>23971</td>\n",
       "      <td>716704.472</td>\n",
       "      <td>4911</td>\n",
       "    </tr>\n",
       "    <tr>\n",
       "      <th>True</th>\n",
       "      <td>49570</td>\n",
       "      <td>1402754.452</td>\n",
       "      <td>7117</td>\n",
       "    </tr>\n",
       "  </tbody>\n",
       "</table>\n",
       "</div>"
      ],
      "text/plain": [
       "                               PURCHASE_COUNT  TOTAL_PURCHASES_EUR  USER_COUNT\n",
       "USER_HAS_VALID_PAYMENT_METHOD                                                 \n",
       "False                                   23971           716704.472        4911\n",
       "True                                    49570          1402754.452        7117"
      ]
     },
     "execution_count": 25,
     "metadata": {},
     "output_type": "execute_result"
    }
   ],
   "source": [
    "TEMP = customer_data_reg.groupby('USER_HAS_VALID_PAYMENT_METHOD')[['PURCHASE_COUNT','TOTAL_PURCHASES_EUR']].sum()\n",
    "Temp2 = pd.merge(TEMP, customer_data_reg.groupby('USER_HAS_VALID_PAYMENT_METHOD')['USER_ID'].count() , on='USER_HAS_VALID_PAYMENT_METHOD')\n",
    "Temp2.rename(columns={'USER_ID':'USER_COUNT'})"
   ]
  },
  {
   "cell_type": "markdown",
   "id": "e4a6c460",
   "metadata": {},
   "source": [
    "## Device Preferences  and cutomers purchases\n",
    "\n",
    "- Most customers prefered Ios device\n",
    "- The maximum purchase is done through IOS devices"
   ]
  },
  {
   "cell_type": "code",
   "execution_count": 26,
   "id": "706f49df",
   "metadata": {},
   "outputs": [
    {
     "data": {
      "text/html": [
       "<div>\n",
       "<style scoped>\n",
       "    .dataframe tbody tr th:only-of-type {\n",
       "        vertical-align: middle;\n",
       "    }\n",
       "\n",
       "    .dataframe tbody tr th {\n",
       "        vertical-align: top;\n",
       "    }\n",
       "\n",
       "    .dataframe thead th {\n",
       "        text-align: right;\n",
       "    }\n",
       "</style>\n",
       "<table border=\"1\" class=\"dataframe\">\n",
       "  <thead>\n",
       "    <tr style=\"text-align: right;\">\n",
       "      <th></th>\n",
       "      <th>IOS_PURCHASES</th>\n",
       "      <th>WEB_PURCHASES</th>\n",
       "      <th>ANDROID_PURCHASES</th>\n",
       "      <th>USER_COUNT</th>\n",
       "    </tr>\n",
       "    <tr>\n",
       "      <th>PREFERRED_DEVICE</th>\n",
       "      <th></th>\n",
       "      <th></th>\n",
       "      <th></th>\n",
       "      <th></th>\n",
       "    </tr>\n",
       "  </thead>\n",
       "  <tbody>\n",
       "    <tr>\n",
       "      <th>android</th>\n",
       "      <td>934.0</td>\n",
       "      <td>983.0</td>\n",
       "      <td>22967.0</td>\n",
       "      <td>4108</td>\n",
       "    </tr>\n",
       "    <tr>\n",
       "      <th>ios</th>\n",
       "      <td>30019.0</td>\n",
       "      <td>1134.0</td>\n",
       "      <td>563.0</td>\n",
       "      <td>5328</td>\n",
       "    </tr>\n",
       "    <tr>\n",
       "      <th>web</th>\n",
       "      <td>3934.0</td>\n",
       "      <td>10590.0</td>\n",
       "      <td>2416.0</td>\n",
       "      <td>2591</td>\n",
       "    </tr>\n",
       "  </tbody>\n",
       "</table>\n",
       "</div>"
      ],
      "text/plain": [
       "                  IOS_PURCHASES  WEB_PURCHASES  ANDROID_PURCHASES  USER_COUNT\n",
       "PREFERRED_DEVICE                                                             \n",
       "android                   934.0          983.0            22967.0        4108\n",
       "ios                     30019.0         1134.0              563.0        5328\n",
       "web                      3934.0        10590.0             2416.0        2591"
      ]
     },
     "execution_count": 26,
     "metadata": {},
     "output_type": "execute_result"
    }
   ],
   "source": [
    "dev = customer_data_reg[['PREFERRED_DEVICE','IOS_PURCHASES','WEB_PURCHASES','ANDROID_PURCHASES']]\n",
    "temp = pd.merge(dev.groupby('PREFERRED_DEVICE').sum() , customer_data_reg.groupby('PREFERRED_DEVICE')['USER_ID'].count(),on='PREFERRED_DEVICE')\n",
    "temp.rename(columns= {'USER_ID':'USER_COUNT'},inplace=True)\n",
    "temp"
   ]
  },
  {
   "cell_type": "code",
   "execution_count": null,
   "id": "551716b4",
   "metadata": {},
   "outputs": [],
   "source": []
  },
  {
   "cell_type": "code",
   "execution_count": 27,
   "id": "0a6a6958",
   "metadata": {},
   "outputs": [
    {
     "data": {
      "text/plain": [
       "IOS_PURCHASES        34887.0\n",
       "WEB_PURCHASES        12707.0\n",
       "ANDROID_PURCHASES    25946.0\n",
       "dtype: float64"
      ]
     },
     "execution_count": 27,
     "metadata": {},
     "output_type": "execute_result"
    }
   ],
   "source": [
    "temp2 = temp.drop(\"USER_COUNT\",axis=1).reset_index().drop('PREFERRED_DEVICE',axis=1)\n",
    "temp2.sum()"
   ]
  },
  {
   "cell_type": "code",
   "execution_count": 28,
   "id": "a7152469",
   "metadata": {},
   "outputs": [
    {
     "data": {
      "text/plain": [
       "array([<AxesSubplot:ylabel='Total_Purchase_Device'>], dtype=object)"
      ]
     },
     "execution_count": 28,
     "metadata": {},
     "output_type": "execute_result"
    },
    {
     "data": {
      "image/png": "[encoded data removed]",
      "text/plain": [
       "<Figure size 576x576 with 1 Axes>"
      ]
     },
     "metadata": {},
     "output_type": "display_data"
    }
   ],
   "source": [
    "pd.DataFrame(temp2.sum(),columns=['Total_Purchase_Device']).plot(kind='pie',\n",
    "                                                                 title='User_Device%',\n",
    "                                                                 subplots=True,\n",
    "                                                                 legend=False,figsize=(8,8),\n",
    "                                                                 autopct='%1.1f%%')"
   ]
  },
  {
   "cell_type": "markdown",
   "id": "7ef4b33d",
   "metadata": {},
   "source": [
    "## Understanding Prefered Resturant Types\n",
    "- Total of 4267 Customers gave the prefered Resturant types\n",
    "- 30% customer prefer the American resturant and is highest among all while the italian, mexican , japenese are the type which is prefered by more than 10% of the customers"
   ]
  },
  {
   "cell_type": "code",
   "execution_count": 29,
   "id": "221cd373",
   "metadata": {},
   "outputs": [
    {
     "data": {
      "text/html": [
       "<div>\n",
       "<style scoped>\n",
       "    .dataframe tbody tr th:only-of-type {\n",
       "        vertical-align: middle;\n",
       "    }\n",
       "\n",
       "    .dataframe tbody tr th {\n",
       "        vertical-align: top;\n",
       "    }\n",
       "\n",
       "    .dataframe thead th {\n",
       "        text-align: right;\n",
       "    }\n",
       "</style>\n",
       "<table border=\"1\" class=\"dataframe\">\n",
       "  <thead>\n",
       "    <tr style=\"text-align: right;\">\n",
       "      <th></th>\n",
       "      <th>PREFERRED_RESTAURANT_TYPES</th>\n",
       "      <th>USER_ID</th>\n",
       "    </tr>\n",
       "  </thead>\n",
       "  <tbody>\n",
       "    <tr>\n",
       "      <th>0</th>\n",
       "      <td>american</td>\n",
       "      <td>14</td>\n",
       "    </tr>\n",
       "    <tr>\n",
       "      <th>1</th>\n",
       "      <td>american</td>\n",
       "      <td>17</td>\n",
       "    </tr>\n",
       "    <tr>\n",
       "      <th>2</th>\n",
       "      <td>japanese</td>\n",
       "      <td>18</td>\n",
       "    </tr>\n",
       "    <tr>\n",
       "      <th>3</th>\n",
       "      <td>italian</td>\n",
       "      <td>27</td>\n",
       "    </tr>\n",
       "    <tr>\n",
       "      <th>4</th>\n",
       "      <td>american</td>\n",
       "      <td>32</td>\n",
       "    </tr>\n",
       "    <tr>\n",
       "      <th>...</th>\n",
       "      <td>...</td>\n",
       "      <td>...</td>\n",
       "    </tr>\n",
       "    <tr>\n",
       "      <th>2662</th>\n",
       "      <td>american</td>\n",
       "      <td>21924</td>\n",
       "    </tr>\n",
       "    <tr>\n",
       "      <th>2663</th>\n",
       "      <td>chinese</td>\n",
       "      <td>21930</td>\n",
       "    </tr>\n",
       "    <tr>\n",
       "      <th>2664</th>\n",
       "      <td>italian</td>\n",
       "      <td>21948</td>\n",
       "    </tr>\n",
       "    <tr>\n",
       "      <th>2665</th>\n",
       "      <td>american</td>\n",
       "      <td>21970</td>\n",
       "    </tr>\n",
       "    <tr>\n",
       "      <th>2665</th>\n",
       "      <td>italian</td>\n",
       "      <td>21970</td>\n",
       "    </tr>\n",
       "  </tbody>\n",
       "</table>\n",
       "<p>4267 rows × 2 columns</p>\n",
       "</div>"
      ],
      "text/plain": [
       "     PREFERRED_RESTAURANT_TYPES  USER_ID\n",
       "0                      american       14\n",
       "1                      american       17\n",
       "2                      japanese       18\n",
       "3                       italian       27\n",
       "4                      american       32\n",
       "...                         ...      ...\n",
       "2662                   american    21924\n",
       "2663                    chinese    21930\n",
       "2664                    italian    21948\n",
       "2665                   american    21970\n",
       "2665                    italian    21970\n",
       "\n",
       "[4267 rows x 2 columns]"
      ]
     },
     "execution_count": 29,
     "metadata": {},
     "output_type": "execute_result"
    }
   ],
   "source": [
    "a = pd.DataFrame(customer_data_reg[['PREFERRED_RESTAURANT_TYPES','USER_ID']].dropna()).reset_index().drop(\"index\",axis=1)\n",
    "a['PREFERRED_RESTAURANT_TYPES'] = a[\"PREFERRED_RESTAURANT_TYPES\"].apply(lambda x: re.findall(r'\\w+', x))\n",
    "a = a.explode(\"PREFERRED_RESTAURANT_TYPES\")\n",
    "a"
   ]
  },
  {
   "cell_type": "code",
   "execution_count": 30,
   "id": "ec70ef96",
   "metadata": {},
   "outputs": [
    {
     "data": {
      "text/html": [
       "<div>\n",
       "<style scoped>\n",
       "    .dataframe tbody tr th:only-of-type {\n",
       "        vertical-align: middle;\n",
       "    }\n",
       "\n",
       "    .dataframe tbody tr th {\n",
       "        vertical-align: top;\n",
       "    }\n",
       "\n",
       "    .dataframe thead th {\n",
       "        text-align: right;\n",
       "    }\n",
       "</style>\n",
       "<table border=\"1\" class=\"dataframe\">\n",
       "  <thead>\n",
       "    <tr style=\"text-align: right;\">\n",
       "      <th></th>\n",
       "      <th>USER_COUNT</th>\n",
       "      <th>%ofcustomer</th>\n",
       "    </tr>\n",
       "    <tr>\n",
       "      <th>PREFERRED_RESTAURANT_TYPES</th>\n",
       "      <th></th>\n",
       "      <th></th>\n",
       "    </tr>\n",
       "  </thead>\n",
       "  <tbody>\n",
       "    <tr>\n",
       "      <th>american</th>\n",
       "      <td>1296</td>\n",
       "      <td>30.372627</td>\n",
       "    </tr>\n",
       "    <tr>\n",
       "      <th>chinese</th>\n",
       "      <td>29</td>\n",
       "      <td>0.679634</td>\n",
       "    </tr>\n",
       "    <tr>\n",
       "      <th>eastern</th>\n",
       "      <td>226</td>\n",
       "      <td>5.296461</td>\n",
       "    </tr>\n",
       "    <tr>\n",
       "      <th>greek</th>\n",
       "      <td>19</td>\n",
       "      <td>0.445278</td>\n",
       "    </tr>\n",
       "    <tr>\n",
       "      <th>hawaiian</th>\n",
       "      <td>24</td>\n",
       "      <td>0.562456</td>\n",
       "    </tr>\n",
       "    <tr>\n",
       "      <th>indian</th>\n",
       "      <td>230</td>\n",
       "      <td>5.390204</td>\n",
       "    </tr>\n",
       "    <tr>\n",
       "      <th>italian</th>\n",
       "      <td>920</td>\n",
       "      <td>21.560816</td>\n",
       "    </tr>\n",
       "    <tr>\n",
       "      <th>japanese</th>\n",
       "      <td>654</td>\n",
       "      <td>15.326928</td>\n",
       "    </tr>\n",
       "    <tr>\n",
       "      <th>korean</th>\n",
       "      <td>49</td>\n",
       "      <td>1.148348</td>\n",
       "    </tr>\n",
       "    <tr>\n",
       "      <th>mexican</th>\n",
       "      <td>466</td>\n",
       "      <td>10.921022</td>\n",
       "    </tr>\n",
       "    <tr>\n",
       "      <th>middle</th>\n",
       "      <td>226</td>\n",
       "      <td>5.296461</td>\n",
       "    </tr>\n",
       "    <tr>\n",
       "      <th>nepalese</th>\n",
       "      <td>6</td>\n",
       "      <td>0.140614</td>\n",
       "    </tr>\n",
       "    <tr>\n",
       "      <th>spanish</th>\n",
       "      <td>1</td>\n",
       "      <td>0.023436</td>\n",
       "    </tr>\n",
       "    <tr>\n",
       "      <th>thai</th>\n",
       "      <td>68</td>\n",
       "      <td>1.593625</td>\n",
       "    </tr>\n",
       "    <tr>\n",
       "      <th>vietnamese</th>\n",
       "      <td>53</td>\n",
       "      <td>1.242090</td>\n",
       "    </tr>\n",
       "  </tbody>\n",
       "</table>\n",
       "</div>"
      ],
      "text/plain": [
       "                            USER_COUNT  %ofcustomer\n",
       "PREFERRED_RESTAURANT_TYPES                         \n",
       "american                          1296    30.372627\n",
       "chinese                             29     0.679634\n",
       "eastern                            226     5.296461\n",
       "greek                               19     0.445278\n",
       "hawaiian                            24     0.562456\n",
       "indian                             230     5.390204\n",
       "italian                            920    21.560816\n",
       "japanese                           654    15.326928\n",
       "korean                              49     1.148348\n",
       "mexican                            466    10.921022\n",
       "middle                             226     5.296461\n",
       "nepalese                             6     0.140614\n",
       "spanish                              1     0.023436\n",
       "thai                                68     1.593625\n",
       "vietnamese                          53     1.242090"
      ]
     },
     "execution_count": 30,
     "metadata": {},
     "output_type": "execute_result"
    }
   ],
   "source": [
    "res_pref  = a.groupby('PREFERRED_RESTAURANT_TYPES').count().rename(columns={'USER_ID':'USER_COUNT'})\n",
    "# res_pref.sum()\n",
    "res_pref[\"%ofcustomer\"] = res_pref[\"USER_COUNT\"]/res_pref.sum().values *100\n",
    "res_pref"
   ]
  },
  {
   "cell_type": "code",
   "execution_count": 31,
   "id": "18b1440f",
   "metadata": {},
   "outputs": [
    {
     "data": {
      "text/plain": [
       "<AxesSubplot:xlabel='PREFERRED_RESTAURANT_TYPES', ylabel='%of_Customer'>"
      ]
     },
     "execution_count": 31,
     "metadata": {},
     "output_type": "execute_result"
    },
    {
     "data": {
      "image/png": "[encoded data removed]",
      "text/plain": [
       "<Figure size 720x504 with 1 Axes>"
      ]
     },
     "metadata": {
      "needs_background": "light"
     },
     "output_type": "display_data"
    }
   ],
   "source": [
    "res_pref['%ofcustomer'].plot(kind='bar',ylabel='%of_Customer',figsize=(10,7))"
   ]
  },
  {
   "cell_type": "markdown",
   "id": "02d61d9d",
   "metadata": {},
   "source": [
    "## Purchase distribution\n",
    "- Plotting distribution of purchases made at different time of day\n",
    "- No late night purchases found\n",
    "- Most are the dinner purchases"
   ]
  },
  {
   "cell_type": "code",
   "execution_count": 32,
   "id": "ad43bf0c",
   "metadata": {},
   "outputs": [
    {
     "data": {
      "text/html": [
       "<div>\n",
       "<style scoped>\n",
       "    .dataframe tbody tr th:only-of-type {\n",
       "        vertical-align: middle;\n",
       "    }\n",
       "\n",
       "    .dataframe tbody tr th {\n",
       "        vertical-align: top;\n",
       "    }\n",
       "\n",
       "    .dataframe thead th {\n",
       "        text-align: right;\n",
       "    }\n",
       "</style>\n",
       "<table border=\"1\" class=\"dataframe\">\n",
       "  <thead>\n",
       "    <tr style=\"text-align: right;\">\n",
       "      <th></th>\n",
       "      <th>REGISTRATION_DATE</th>\n",
       "      <th>REGISTRATION_COUNTRY</th>\n",
       "      <th>PURCHASE_COUNT</th>\n",
       "      <th>PURCHASE_COUNT_DELIVERY</th>\n",
       "      <th>PURCHASE_COUNT_TAKEAWAY</th>\n",
       "      <th>FIRST_PURCHASE_DAY</th>\n",
       "      <th>LAST_PURCHASE_DAY</th>\n",
       "      <th>USER_ID</th>\n",
       "      <th>BREAKFAST_PURCHASES</th>\n",
       "      <th>LUNCH_PURCHASES</th>\n",
       "      <th>...</th>\n",
       "      <th>WEB_PURCHASES</th>\n",
       "      <th>ANDROID_PURCHASES</th>\n",
       "      <th>PREFERRED_RESTAURANT_TYPES</th>\n",
       "      <th>USER_HAS_VALID_PAYMENT_METHOD</th>\n",
       "      <th>MOST_COMMON_HOUR_OF_THE_DAY_TO_PURCHASE</th>\n",
       "      <th>MOST_COMMON_WEEKDAY_TO_PURCHASE</th>\n",
       "      <th>AVG_DAYS_BETWEEN_PURCHASES</th>\n",
       "      <th>MEDIAN_DAYS_BETWEEN_PURCHASES</th>\n",
       "      <th>AVERAGE_DELIVERY_DISTANCE_KMS</th>\n",
       "      <th>PURCHASE_COUNT_BY_STORE_TYPE</th>\n",
       "    </tr>\n",
       "  </thead>\n",
       "  <tbody>\n",
       "    <tr>\n",
       "      <th>1</th>\n",
       "      <td>2019-09-01 00:00:00.000</td>\n",
       "      <td>FIN</td>\n",
       "      <td>1</td>\n",
       "      <td>1.0</td>\n",
       "      <td>0.0</td>\n",
       "      <td>2020-09-02 00:00:00.000</td>\n",
       "      <td>2020-09-02 00:00:00.000</td>\n",
       "      <td>2</td>\n",
       "      <td>0.0</td>\n",
       "      <td>1.0</td>\n",
       "      <td>...</td>\n",
       "      <td>0.0</td>\n",
       "      <td>1.0</td>\n",
       "      <td>NaN</td>\n",
       "      <td>False</td>\n",
       "      <td>23.0</td>\n",
       "      <td>2.0</td>\n",
       "      <td>NaN</td>\n",
       "      <td>NaN</td>\n",
       "      <td>6.853</td>\n",
       "      <td>{\\n  \"General merchandise\": 0,\\n  \"Grocery\": 0...</td>\n",
       "    </tr>\n",
       "    <tr>\n",
       "      <th>2</th>\n",
       "      <td>2019-09-01 00:00:00.000</td>\n",
       "      <td>DNK</td>\n",
       "      <td>19</td>\n",
       "      <td>19.0</td>\n",
       "      <td>0.0</td>\n",
       "      <td>2019-12-10 00:00:00.000</td>\n",
       "      <td>2020-05-25 00:00:00.000</td>\n",
       "      <td>3</td>\n",
       "      <td>0.0</td>\n",
       "      <td>4.0</td>\n",
       "      <td>...</td>\n",
       "      <td>19.0</td>\n",
       "      <td>0.0</td>\n",
       "      <td>NaN</td>\n",
       "      <td>True</td>\n",
       "      <td>21.0</td>\n",
       "      <td>2.0</td>\n",
       "      <td>9.0</td>\n",
       "      <td>3.0</td>\n",
       "      <td>6.559</td>\n",
       "      <td>{\\n  \"General merchandise\": 1,\\n  \"Grocery\": 9...</td>\n",
       "    </tr>\n",
       "    <tr>\n",
       "      <th>7</th>\n",
       "      <td>2019-09-01 00:00:00.000</td>\n",
       "      <td>FIN</td>\n",
       "      <td>1</td>\n",
       "      <td>1.0</td>\n",
       "      <td>0.0</td>\n",
       "      <td>2020-10-14 00:00:00.000</td>\n",
       "      <td>2020-10-14 00:00:00.000</td>\n",
       "      <td>8</td>\n",
       "      <td>0.0</td>\n",
       "      <td>0.0</td>\n",
       "      <td>...</td>\n",
       "      <td>0.0</td>\n",
       "      <td>1.0</td>\n",
       "      <td>NaN</td>\n",
       "      <td>True</td>\n",
       "      <td>5.0</td>\n",
       "      <td>1.0</td>\n",
       "      <td>NaN</td>\n",
       "      <td>NaN</td>\n",
       "      <td>1.251</td>\n",
       "      <td>{\\n  \"General merchandise\": 0,\\n  \"Grocery\": 0...</td>\n",
       "    </tr>\n",
       "    <tr>\n",
       "      <th>12</th>\n",
       "      <td>2019-09-01 00:00:00.000</td>\n",
       "      <td>FIN</td>\n",
       "      <td>19</td>\n",
       "      <td>19.0</td>\n",
       "      <td>0.0</td>\n",
       "      <td>2020-04-18 00:00:00.000</td>\n",
       "      <td>2020-10-27 00:00:00.000</td>\n",
       "      <td>13</td>\n",
       "      <td>0.0</td>\n",
       "      <td>8.0</td>\n",
       "      <td>...</td>\n",
       "      <td>0.0</td>\n",
       "      <td>0.0</td>\n",
       "      <td>NaN</td>\n",
       "      <td>True</td>\n",
       "      <td>7.0</td>\n",
       "      <td>3.0</td>\n",
       "      <td>11.0</td>\n",
       "      <td>9.0</td>\n",
       "      <td>3.303</td>\n",
       "      <td>{\\n  \"General merchandise\": 1,\\n  \"Grocery\": 9...</td>\n",
       "    </tr>\n",
       "    <tr>\n",
       "      <th>13</th>\n",
       "      <td>2019-09-01 00:00:00.000</td>\n",
       "      <td>FIN</td>\n",
       "      <td>2</td>\n",
       "      <td>2.0</td>\n",
       "      <td>0.0</td>\n",
       "      <td>2020-08-21 00:00:00.000</td>\n",
       "      <td>2020-09-09 00:00:00.000</td>\n",
       "      <td>14</td>\n",
       "      <td>0.0</td>\n",
       "      <td>1.0</td>\n",
       "      <td>...</td>\n",
       "      <td>0.0</td>\n",
       "      <td>2.0</td>\n",
       "      <td>[\\n  \"american\"\\n]</td>\n",
       "      <td>False</td>\n",
       "      <td>5.0</td>\n",
       "      <td>6.0</td>\n",
       "      <td>19.0</td>\n",
       "      <td>19.0</td>\n",
       "      <td>1.382</td>\n",
       "      <td>{\\n  \"General merchandise\": 0,\\n  \"Grocery\": 0...</td>\n",
       "    </tr>\n",
       "  </tbody>\n",
       "</table>\n",
       "<p>5 rows × 30 columns</p>\n",
       "</div>"
      ],
      "text/plain": [
       "          REGISTRATION_DATE REGISTRATION_COUNTRY  PURCHASE_COUNT  \\\n",
       "1   2019-09-01 00:00:00.000                  FIN               1   \n",
       "2   2019-09-01 00:00:00.000                  DNK              19   \n",
       "7   2019-09-01 00:00:00.000                  FIN               1   \n",
       "12  2019-09-01 00:00:00.000                  FIN              19   \n",
       "13  2019-09-01 00:00:00.000                  FIN               2   \n",
       "\n",
       "    PURCHASE_COUNT_DELIVERY  PURCHASE_COUNT_TAKEAWAY       FIRST_PURCHASE_DAY  \\\n",
       "1                       1.0                      0.0  2020-09-02 00:00:00.000   \n",
       "2                      19.0                      0.0  2019-12-10 00:00:00.000   \n",
       "7                       1.0                      0.0  2020-10-14 00:00:00.000   \n",
       "12                     19.0                      0.0  2020-04-18 00:00:00.000   \n",
       "13                      2.0                      0.0  2020-08-21 00:00:00.000   \n",
       "\n",
       "          LAST_PURCHASE_DAY  USER_ID  BREAKFAST_PURCHASES  LUNCH_PURCHASES  \\\n",
       "1   2020-09-02 00:00:00.000        2                  0.0              1.0   \n",
       "2   2020-05-25 00:00:00.000        3                  0.0              4.0   \n",
       "7   2020-10-14 00:00:00.000        8                  0.0              0.0   \n",
       "12  2020-10-27 00:00:00.000       13                  0.0              8.0   \n",
       "13  2020-09-09 00:00:00.000       14                  0.0              1.0   \n",
       "\n",
       "    ...  WEB_PURCHASES  ANDROID_PURCHASES  PREFERRED_RESTAURANT_TYPES  \\\n",
       "1   ...            0.0                1.0                         NaN   \n",
       "2   ...           19.0                0.0                         NaN   \n",
       "7   ...            0.0                1.0                         NaN   \n",
       "12  ...            0.0                0.0                         NaN   \n",
       "13  ...            0.0                2.0          [\\n  \"american\"\\n]   \n",
       "\n",
       "    USER_HAS_VALID_PAYMENT_METHOD  MOST_COMMON_HOUR_OF_THE_DAY_TO_PURCHASE  \\\n",
       "1                           False                                     23.0   \n",
       "2                            True                                     21.0   \n",
       "7                            True                                      5.0   \n",
       "12                           True                                      7.0   \n",
       "13                          False                                      5.0   \n",
       "\n",
       "    MOST_COMMON_WEEKDAY_TO_PURCHASE  AVG_DAYS_BETWEEN_PURCHASES  \\\n",
       "1                               2.0                         NaN   \n",
       "2                               2.0                         9.0   \n",
       "7                               1.0                         NaN   \n",
       "12                              3.0                        11.0   \n",
       "13                              6.0                        19.0   \n",
       "\n",
       "    MEDIAN_DAYS_BETWEEN_PURCHASES AVERAGE_DELIVERY_DISTANCE_KMS  \\\n",
       "1                             NaN                         6.853   \n",
       "2                             3.0                         6.559   \n",
       "7                             NaN                         1.251   \n",
       "12                            9.0                         3.303   \n",
       "13                           19.0                         1.382   \n",
       "\n",
       "                         PURCHASE_COUNT_BY_STORE_TYPE  \n",
       "1   {\\n  \"General merchandise\": 0,\\n  \"Grocery\": 0...  \n",
       "2   {\\n  \"General merchandise\": 1,\\n  \"Grocery\": 9...  \n",
       "7   {\\n  \"General merchandise\": 0,\\n  \"Grocery\": 0...  \n",
       "12  {\\n  \"General merchandise\": 1,\\n  \"Grocery\": 9...  \n",
       "13  {\\n  \"General merchandise\": 0,\\n  \"Grocery\": 0...  \n",
       "\n",
       "[5 rows x 30 columns]"
      ]
     },
     "execution_count": 32,
     "metadata": {},
     "output_type": "execute_result"
    }
   ],
   "source": [
    "customer_data_reg.head()"
   ]
  },
  {
   "cell_type": "markdown",
   "id": "91c0772b",
   "metadata": {},
   "source": [
    "### Based on total purchases"
   ]
  },
  {
   "cell_type": "code",
   "execution_count": 33,
   "id": "377baf42",
   "metadata": {},
   "outputs": [
    {
     "data": {
      "text/html": [
       "<div>\n",
       "<style scoped>\n",
       "    .dataframe tbody tr th:only-of-type {\n",
       "        vertical-align: middle;\n",
       "    }\n",
       "\n",
       "    .dataframe tbody tr th {\n",
       "        vertical-align: top;\n",
       "    }\n",
       "\n",
       "    .dataframe thead th {\n",
       "        text-align: right;\n",
       "    }\n",
       "</style>\n",
       "<table border=\"1\" class=\"dataframe\">\n",
       "  <thead>\n",
       "    <tr style=\"text-align: right;\">\n",
       "      <th></th>\n",
       "      <th>Total</th>\n",
       "    </tr>\n",
       "  </thead>\n",
       "  <tbody>\n",
       "    <tr>\n",
       "      <th>BREAKFAST_PURCHASES</th>\n",
       "      <td>2333.0</td>\n",
       "    </tr>\n",
       "    <tr>\n",
       "      <th>LUNCH_PURCHASES</th>\n",
       "      <td>28567.0</td>\n",
       "    </tr>\n",
       "    <tr>\n",
       "      <th>EVENING_PURCHASES</th>\n",
       "      <td>5935.0</td>\n",
       "    </tr>\n",
       "    <tr>\n",
       "      <th>DINNER_PURCHASES</th>\n",
       "      <td>36433.0</td>\n",
       "    </tr>\n",
       "    <tr>\n",
       "      <th>LATE_NIGHT_PURCHASES</th>\n",
       "      <td>0.0</td>\n",
       "    </tr>\n",
       "  </tbody>\n",
       "</table>\n",
       "</div>"
      ],
      "text/plain": [
       "                        Total\n",
       "BREAKFAST_PURCHASES    2333.0\n",
       "LUNCH_PURCHASES       28567.0\n",
       "EVENING_PURCHASES      5935.0\n",
       "DINNER_PURCHASES      36433.0\n",
       "LATE_NIGHT_PURCHASES      0.0"
      ]
     },
     "execution_count": 33,
     "metadata": {},
     "output_type": "execute_result"
    }
   ],
   "source": [
    "df = customer_data_reg[['USER_ID','BREAKFAST_PURCHASES','LUNCH_PURCHASES','EVENING_PURCHASES','DINNER_PURCHASES','LATE_NIGHT_PURCHASES']]\n",
    "temp = pd.DataFrame(df.drop('USER_ID',axis=1).sum(), columns=['Total'])\n",
    "temp"
   ]
  },
  {
   "cell_type": "code",
   "execution_count": 34,
   "id": "225e64e1",
   "metadata": {},
   "outputs": [
    {
     "data": {
      "text/plain": [
       "array([<AxesSubplot:ylabel='Total'>], dtype=object)"
      ]
     },
     "execution_count": 34,
     "metadata": {},
     "output_type": "execute_result"
    },
    {
     "data": {
      "image/png": "[encoded data removed]",
      "text/plain": [
       "<Figure size 576x576 with 1 Axes>"
      ]
     },
     "metadata": {},
     "output_type": "display_data"
    }
   ],
   "source": [
    "temp.plot(kind='pie', title='Time_Of_Day_Total%',subplots=True,legend=False,figsize=(8,8),autopct='%1.1f%%')"
   ]
  },
  {
   "cell_type": "markdown",
   "id": "80eea915",
   "metadata": {},
   "source": [
    "## Take Away and Delivery \n",
    "- Most purchases are delivery purchases\n",
    "- 94% of the purchases are Delivery while the 4% of are Take Away"
   ]
  },
  {
   "cell_type": "code",
   "execution_count": 35,
   "id": "c4532b36",
   "metadata": {},
   "outputs": [
    {
     "data": {
      "text/html": [
       "<div>\n",
       "<style scoped>\n",
       "    .dataframe tbody tr th:only-of-type {\n",
       "        vertical-align: middle;\n",
       "    }\n",
       "\n",
       "    .dataframe tbody tr th {\n",
       "        vertical-align: top;\n",
       "    }\n",
       "\n",
       "    .dataframe thead th {\n",
       "        text-align: right;\n",
       "    }\n",
       "</style>\n",
       "<table border=\"1\" class=\"dataframe\">\n",
       "  <thead>\n",
       "    <tr style=\"text-align: right;\">\n",
       "      <th></th>\n",
       "      <th>PURCHASE_COUNT</th>\n",
       "      <th>PURCHASE_COUNT_DELIVERY</th>\n",
       "      <th>PURCHASE_COUNT_TAKEAWAY</th>\n",
       "    </tr>\n",
       "  </thead>\n",
       "  <tbody>\n",
       "    <tr>\n",
       "      <th>1</th>\n",
       "      <td>1</td>\n",
       "      <td>1.0</td>\n",
       "      <td>0.0</td>\n",
       "    </tr>\n",
       "    <tr>\n",
       "      <th>2</th>\n",
       "      <td>19</td>\n",
       "      <td>19.0</td>\n",
       "      <td>0.0</td>\n",
       "    </tr>\n",
       "    <tr>\n",
       "      <th>7</th>\n",
       "      <td>1</td>\n",
       "      <td>1.0</td>\n",
       "      <td>0.0</td>\n",
       "    </tr>\n",
       "    <tr>\n",
       "      <th>12</th>\n",
       "      <td>19</td>\n",
       "      <td>19.0</td>\n",
       "      <td>0.0</td>\n",
       "    </tr>\n",
       "    <tr>\n",
       "      <th>13</th>\n",
       "      <td>2</td>\n",
       "      <td>2.0</td>\n",
       "      <td>0.0</td>\n",
       "    </tr>\n",
       "  </tbody>\n",
       "</table>\n",
       "</div>"
      ],
      "text/plain": [
       "    PURCHASE_COUNT  PURCHASE_COUNT_DELIVERY  PURCHASE_COUNT_TAKEAWAY\n",
       "1                1                      1.0                      0.0\n",
       "2               19                     19.0                      0.0\n",
       "7                1                      1.0                      0.0\n",
       "12              19                     19.0                      0.0\n",
       "13               2                      2.0                      0.0"
      ]
     },
     "execution_count": 35,
     "metadata": {},
     "output_type": "execute_result"
    }
   ],
   "source": [
    "temp = customer_data_reg[['PURCHASE_COUNT','PURCHASE_COUNT_DELIVERY', 'PURCHASE_COUNT_TAKEAWAY']]\n",
    "temp.head()"
   ]
  },
  {
   "cell_type": "code",
   "execution_count": 36,
   "id": "45bbd67a",
   "metadata": {},
   "outputs": [
    {
     "data": {
      "text/plain": [
       "PURCHASE_COUNT             73541.0\n",
       "PURCHASE_COUNT_DELIVERY    69061.0\n",
       "PURCHASE_COUNT_TAKEAWAY     4480.0\n",
       "dtype: float64"
      ]
     },
     "execution_count": 36,
     "metadata": {},
     "output_type": "execute_result"
    }
   ],
   "source": [
    "temp.sum()"
   ]
  },
  {
   "cell_type": "code",
   "execution_count": 37,
   "id": "99f988ea",
   "metadata": {},
   "outputs": [],
   "source": [
    "a,b,c = temp.sum().values"
   ]
  },
  {
   "cell_type": "code",
   "execution_count": 38,
   "id": "bf77fb90",
   "metadata": {},
   "outputs": [
    {
     "data": {
      "text/plain": [
       "(93.90816007397234, 6.091839926027658)"
      ]
     },
     "execution_count": 38,
     "metadata": {},
     "output_type": "execute_result"
    }
   ],
   "source": [
    "b/a *100, c/a*100"
   ]
  },
  {
   "cell_type": "markdown",
   "id": "bd3ab59e",
   "metadata": {},
   "source": [
    "### Purchase Count and Amount spend\n",
    "- On average the single purcahse amounts to 31-EUR"
   ]
  },
  {
   "cell_type": "code",
   "execution_count": 39,
   "id": "3326c1c8",
   "metadata": {},
   "outputs": [
    {
     "data": {
      "text/plain": [
       "(    PURCHASE_COUNT  TOTAL_PURCHASES_EUR  MIN_PURCHASE_VALUE_EUR  \\\n",
       " 1                1               38.456                  38.532   \n",
       " 2               19              631.488                  20.280   \n",
       " 7                1               19.228                  19.266   \n",
       " 12              19              587.972                  19.266   \n",
       " 13               2              118.404                  57.798   \n",
       " \n",
       "     MAX_PURCHASE_VALUE_EUR  AVG_PURCHASE_VALUE_EUR  \n",
       " 1                   38.608                  38.456  \n",
       " 2                   43.688                  33.396  \n",
       " 7                   19.304                  19.228  \n",
       " 12                  47.752                  31.372  \n",
       " 13                  60.960                  59.708  ,\n",
       " (12028, 5))"
      ]
     },
     "execution_count": 39,
     "metadata": {},
     "output_type": "execute_result"
    }
   ],
   "source": [
    "df = customer_data_reg[['PURCHASE_COUNT','TOTAL_PURCHASES_EUR','MIN_PURCHASE_VALUE_EUR','MAX_PURCHASE_VALUE_EUR', 'AVG_PURCHASE_VALUE_EUR']].dropna()\n",
    "df.head(), df.shape"
   ]
  },
  {
   "cell_type": "code",
   "execution_count": 40,
   "id": "ae70b0f0",
   "metadata": {},
   "outputs": [
    {
     "name": "stdout",
     "output_type": "stream",
     "text": [
      "On average the single purcahse EUR:  31.195059860325436\n",
      "On average the single max purcahse EUR:  42.06804256734267\n",
      "On average the single min purcahse EUR:  24.428312105087972\n"
     ]
    }
   ],
   "source": [
    "print('On average the single purcahse EUR: ' , df['AVG_PURCHASE_VALUE_EUR'].mean())\n",
    "print('On average the single max purcahse EUR: ' , df['MAX_PURCHASE_VALUE_EUR'].mean())\n",
    "print('On average the single min purcahse EUR: ' , df['MIN_PURCHASE_VALUE_EUR'].mean())"
   ]
  },
  {
   "cell_type": "markdown",
   "id": "57e4586b",
   "metadata": {},
   "source": [
    "## Only One time Customer Purchase\n",
    "\n",
    "- Almost 1/3 of the customer did only one time purchases\n",
    "- Howere the revenue total from one time customer makes up only 6.3% of the total purchase in EUR"
   ]
  },
  {
   "cell_type": "code",
   "execution_count": 41,
   "id": "816fa2dd",
   "metadata": {},
   "outputs": [
    {
     "data": {
      "text/html": [
       "<div>\n",
       "<style scoped>\n",
       "    .dataframe tbody tr th:only-of-type {\n",
       "        vertical-align: middle;\n",
       "    }\n",
       "\n",
       "    .dataframe tbody tr th {\n",
       "        vertical-align: top;\n",
       "    }\n",
       "\n",
       "    .dataframe thead th {\n",
       "        text-align: right;\n",
       "    }\n",
       "</style>\n",
       "<table border=\"1\" class=\"dataframe\">\n",
       "  <thead>\n",
       "    <tr style=\"text-align: right;\">\n",
       "      <th></th>\n",
       "      <th>PURCHASE_COUNT</th>\n",
       "      <th>TOTAL_PURCHASES_EUR</th>\n",
       "      <th>MIN_PURCHASE_VALUE_EUR</th>\n",
       "      <th>MAX_PURCHASE_VALUE_EUR</th>\n",
       "      <th>AVG_PURCHASE_VALUE_EUR</th>\n",
       "    </tr>\n",
       "  </thead>\n",
       "  <tbody>\n",
       "    <tr>\n",
       "      <th>1</th>\n",
       "      <td>1</td>\n",
       "      <td>38.456</td>\n",
       "      <td>38.532</td>\n",
       "      <td>38.608</td>\n",
       "      <td>38.456</td>\n",
       "    </tr>\n",
       "    <tr>\n",
       "      <th>7</th>\n",
       "      <td>1</td>\n",
       "      <td>19.228</td>\n",
       "      <td>19.266</td>\n",
       "      <td>19.304</td>\n",
       "      <td>19.228</td>\n",
       "    </tr>\n",
       "    <tr>\n",
       "      <th>22</th>\n",
       "      <td>1</td>\n",
       "      <td>25.300</td>\n",
       "      <td>25.350</td>\n",
       "      <td>25.400</td>\n",
       "      <td>25.300</td>\n",
       "    </tr>\n",
       "    <tr>\n",
       "      <th>24</th>\n",
       "      <td>1</td>\n",
       "      <td>14.168</td>\n",
       "      <td>14.196</td>\n",
       "      <td>14.224</td>\n",
       "      <td>14.168</td>\n",
       "    </tr>\n",
       "    <tr>\n",
       "      <th>37</th>\n",
       "      <td>1</td>\n",
       "      <td>64.768</td>\n",
       "      <td>64.896</td>\n",
       "      <td>65.024</td>\n",
       "      <td>64.768</td>\n",
       "    </tr>\n",
       "  </tbody>\n",
       "</table>\n",
       "</div>"
      ],
      "text/plain": [
       "    PURCHASE_COUNT  TOTAL_PURCHASES_EUR  MIN_PURCHASE_VALUE_EUR  \\\n",
       "1                1               38.456                  38.532   \n",
       "7                1               19.228                  19.266   \n",
       "22               1               25.300                  25.350   \n",
       "24               1               14.168                  14.196   \n",
       "37               1               64.768                  64.896   \n",
       "\n",
       "    MAX_PURCHASE_VALUE_EUR  AVG_PURCHASE_VALUE_EUR  \n",
       "1                   38.608                  38.456  \n",
       "7                   19.304                  19.228  \n",
       "22                  25.400                  25.300  \n",
       "24                  14.224                  14.168  \n",
       "37                  65.024                  64.768  "
      ]
     },
     "execution_count": 41,
     "metadata": {},
     "output_type": "execute_result"
    }
   ],
   "source": [
    "temp = df[df['PURCHASE_COUNT']==1]\n",
    "temp.head()"
   ]
  },
  {
   "cell_type": "code",
   "execution_count": 42,
   "id": "4c86b4af",
   "metadata": {},
   "outputs": [
    {
     "name": "stdout",
     "output_type": "stream",
     "text": [
      "Total Customer :  12028\n",
      "Customer with only one time purchase  :  4179\n"
     ]
    }
   ],
   "source": [
    "print('Total Customer : ', len(df))\n",
    "print('Customer with only one time purchase  : ', len(temp))"
   ]
  },
  {
   "cell_type": "code",
   "execution_count": 43,
   "id": "b86f11ca",
   "metadata": {},
   "outputs": [
    {
     "data": {
      "text/plain": [
       "<BarContainer object of 2 artists>"
      ]
     },
     "execution_count": 43,
     "metadata": {},
     "output_type": "execute_result"
    },
    {
     "data": {
      "image/png": "[encoded data removed]",
      "text/plain": [
       "<Figure size 432x288 with 1 Axes>"
      ]
     },
     "metadata": {
      "needs_background": "light"
     },
     "output_type": "display_data"
    }
   ],
   "source": [
    "plt.bar(['Total Customer', 'One Time Customer'], [len(df),len(temp)], color ='blue')"
   ]
  },
  {
   "cell_type": "code",
   "execution_count": 44,
   "id": "7b616c25",
   "metadata": {},
   "outputs": [
    {
     "name": "stdout",
     "output_type": "stream",
     "text": [
      "Amount from one time customer :  133548.58000000002\n",
      "Amount from other customer :  1985910.344\n"
     ]
    }
   ],
   "source": [
    "print(\"Amount from one time customer : \" ,temp[\"TOTAL_PURCHASES_EUR\"].sum())\n",
    "print(\"Amount from other customer : \" ,df[df[\"PURCHASE_COUNT\"]>1][\"TOTAL_PURCHASES_EUR\"].sum())"
   ]
  },
  {
   "cell_type": "code",
   "execution_count": 45,
   "id": "fac6f332",
   "metadata": {},
   "outputs": [
    {
     "data": {
      "image/png": "[encoded data removed]",
      "text/plain": [
       "<Figure size 432x288 with 1 Axes>"
      ]
     },
     "metadata": {},
     "output_type": "display_data"
    }
   ],
   "source": [
    "import numpy as np\n",
    "y = np.array([temp[\"TOTAL_PURCHASES_EUR\"].sum(),df[df[\"PURCHASE_COUNT\"]>1][\"TOTAL_PURCHASES_EUR\"].sum()])\n",
    "labels = ['one time customer' , 'other customer']\n",
    "explode = [0.2, 0]\n",
    "plt.pie(y, labels = labels, explode = explode, shadow = True,autopct='%1.1f%%')\n",
    "plt.title('Revenue EUR')\n",
    "plt.show()"
   ]
  },
  {
   "cell_type": "code",
   "execution_count": 46,
   "id": "0a4cf5e8",
   "metadata": {},
   "outputs": [
    {
     "name": "stdout",
     "output_type": "stream",
     "text": [
      "Pearson correlation coefficient: 0.855\n"
     ]
    }
   ],
   "source": [
    "from scipy.stats import pearsonr\n",
    "df = customer_data_reg[['PURCHASE_COUNT','TOTAL_PURCHASES_EUR']]\n",
    "corr, _ = pearsonr(df['PURCHASE_COUNT'], df['TOTAL_PURCHASES_EUR'])\n",
    "print(\"Pearson correlation coefficient: {:.3f}\".format(corr))"
   ]
  },
  {
   "cell_type": "markdown",
   "id": "fed85a01",
   "metadata": {},
   "source": [
    "## Purchase Count By store \n",
    "- Most are the resturant purchases -> 60%"
   ]
  },
  {
   "cell_type": "code",
   "execution_count": 47,
   "id": "beb7a6a6",
   "metadata": {},
   "outputs": [
    {
     "data": {
      "text/plain": [
       "'{\\n  \"General merchandise\": 0,\\n  \"Grocery\": 0,\\n  \"Pet supplies\": 0,\\n  \"Restaurant\": 1,\\n  \"Retail store\": 0\\n}'"
      ]
     },
     "execution_count": 47,
     "metadata": {},
     "output_type": "execute_result"
    }
   ],
   "source": [
    "customer_data_reg[ \"PURCHASE_COUNT_BY_STORE_TYPE\"].iloc[0]"
   ]
  },
  {
   "cell_type": "code",
   "execution_count": 48,
   "id": "d6cb879e",
   "metadata": {},
   "outputs": [],
   "source": [
    "import json\n",
    "# Function to convert the string representation of a dictionary into a Python dictionary\n",
    "def parse_dict(s):\n",
    "    # Remove newlines and spaces\n",
    "    s = s.replace('\\n', '').replace(' ', '')\n",
    "    # Parse the JSON string and return the resulting dictionary\n",
    "    return json.loads(s)\n",
    "\n",
    "# Apply the parse_dict function to the 'category_counts' column to create a list of dictionaries\n",
    "dict_list = [parse_dict(s) for s in customer_data_reg[ \"PURCHASE_COUNT_BY_STORE_TYPE\"]]\n",
    "\n",
    "# Create a pandas dataframe from the list of dictionaries\n",
    "df = pd.DataFrame(dict_list)\n",
    "\n",
    "# Rename the columns to remove spaces\n",
    "df.columns = [c.replace(' ', '_') for c in df.columns]"
   ]
  },
  {
   "cell_type": "code",
   "execution_count": 49,
   "id": "db245838",
   "metadata": {},
   "outputs": [
    {
     "data": {
      "text/plain": [
       "Text(0.5, 1.0, '%Purchase Count By Store')"
      ]
     },
     "execution_count": 49,
     "metadata": {},
     "output_type": "execute_result"
    },
    {
     "data": {
      "image/png": "[encoded data removed]",
      "text/plain": [
       "<Figure size 1080x1080 with 1 Axes>"
      ]
     },
     "metadata": {},
     "output_type": "display_data"
    }
   ],
   "source": [
    "df.sum().plot(kind='pie',figsize=(15,15), autopct='%1.1f%%',shadow = True,fontsize=14)\n",
    "plt.ylabel(None)\n",
    "plt.title('%Purchase Count By Store')"
   ]
  },
  {
   "cell_type": "code",
   "execution_count": 50,
   "id": "a5f56775",
   "metadata": {},
   "outputs": [
    {
     "data": {
      "text/plain": [
       "Generalmerchandise     1442\n",
       "Grocery               12707\n",
       "Petsupplies             175\n",
       "Restaurant            44692\n",
       "Retailstore           14525\n",
       "dtype: int64"
      ]
     },
     "execution_count": 50,
     "metadata": {},
     "output_type": "execute_result"
    }
   ],
   "source": [
    "df.sum()"
   ]
  },
  {
   "cell_type": "markdown",
   "id": "a3742033",
   "metadata": {},
   "source": [
    "## Analysing Most common time of day"
   ]
  },
  {
   "cell_type": "code",
   "execution_count": 51,
   "id": "f7ac1727",
   "metadata": {},
   "outputs": [],
   "source": [
    "temp = customer_data_reg[['MOST_COMMON_HOUR_OF_THE_DAY_TO_PURCHASE','PURCHASE_COUNT']]\n",
    "temp2 = customer_data_reg[['MOST_COMMON_HOUR_OF_THE_DAY_TO_PURCHASE','USER_ID']]\n",
    "a = temp.groupby('MOST_COMMON_HOUR_OF_THE_DAY_TO_PURCHASE').sum().rename(columns={'PURCHASE_COUNT':'PURCHASE_SUM'})\n",
    "b = temp2.groupby('MOST_COMMON_HOUR_OF_THE_DAY_TO_PURCHASE').count().rename(columns={'USER_ID':'USER_COUNT'})"
   ]
  },
  {
   "cell_type": "code",
   "execution_count": 52,
   "id": "a26d5754",
   "metadata": {},
   "outputs": [],
   "source": [
    "c= pd.merge(a,b,on='MOST_COMMON_HOUR_OF_THE_DAY_TO_PURCHASE')"
   ]
  },
  {
   "cell_type": "code",
   "execution_count": 53,
   "id": "6be95856",
   "metadata": {},
   "outputs": [
    {
     "data": {
      "text/plain": [
       "<AxesSubplot:xlabel='MOST_COMMON_HOUR_OF_THE_DAY_TO_PURCHASE', ylabel='PURCHASES'>"
      ]
     },
     "execution_count": 53,
     "metadata": {},
     "output_type": "execute_result"
    },
    {
     "data": {
      "image/png": "[encoded data removed]",
      "text/plain": [
       "<Figure size 1080x360 with 1 Axes>"
      ]
     },
     "metadata": {
      "needs_background": "light"
     },
     "output_type": "display_data"
    }
   ],
   "source": [
    "c['PURCHASE_SUM'].plot(figsize=(15,5), ylabel='PURCHASES')"
   ]
  },
  {
   "cell_type": "code",
   "execution_count": 54,
   "id": "8785ae23",
   "metadata": {},
   "outputs": [
    {
     "data": {
      "text/plain": [
       "<AxesSubplot:xlabel='MOST_COMMON_HOUR_OF_THE_DAY_TO_PURCHASE', ylabel='USER_COUNT'>"
      ]
     },
     "execution_count": 54,
     "metadata": {},
     "output_type": "execute_result"
    },
    {
     "data": {
      "image/png": "[encoded data removed]",
      "text/plain": [
       "<Figure size 1080x360 with 1 Axes>"
      ]
     },
     "metadata": {
      "needs_background": "light"
     },
     "output_type": "display_data"
    }
   ],
   "source": [
    "c['USER_COUNT'].plot(figsize=(15,5), ylabel='USER_COUNT',color='g',marker='.',markersize=10)"
   ]
  },
  {
   "cell_type": "code",
   "execution_count": 55,
   "id": "2873e159",
   "metadata": {},
   "outputs": [
    {
     "data": {
      "text/html": [
       "<div>\n",
       "<style scoped>\n",
       "    .dataframe tbody tr th:only-of-type {\n",
       "        vertical-align: middle;\n",
       "    }\n",
       "\n",
       "    .dataframe tbody tr th {\n",
       "        vertical-align: top;\n",
       "    }\n",
       "\n",
       "    .dataframe thead th {\n",
       "        text-align: right;\n",
       "    }\n",
       "</style>\n",
       "<table border=\"1\" class=\"dataframe\">\n",
       "  <thead>\n",
       "    <tr style=\"text-align: right;\">\n",
       "      <th></th>\n",
       "      <th>PURCHASE_SUM</th>\n",
       "      <th>USER_COUNT</th>\n",
       "    </tr>\n",
       "    <tr>\n",
       "      <th>MOST_COMMON_HOUR_OF_THE_DAY_TO_PURCHASE</th>\n",
       "      <th></th>\n",
       "      <th></th>\n",
       "    </tr>\n",
       "  </thead>\n",
       "  <tbody>\n",
       "    <tr>\n",
       "      <th>0.0</th>\n",
       "      <td>2949</td>\n",
       "      <td>492</td>\n",
       "    </tr>\n",
       "    <tr>\n",
       "      <th>1.0</th>\n",
       "      <td>3347</td>\n",
       "      <td>518</td>\n",
       "    </tr>\n",
       "    <tr>\n",
       "      <th>2.0</th>\n",
       "      <td>3105</td>\n",
       "      <td>524</td>\n",
       "    </tr>\n",
       "    <tr>\n",
       "      <th>3.0</th>\n",
       "      <td>3471</td>\n",
       "      <td>484</td>\n",
       "    </tr>\n",
       "    <tr>\n",
       "      <th>4.0</th>\n",
       "      <td>3279</td>\n",
       "      <td>512</td>\n",
       "    </tr>\n",
       "    <tr>\n",
       "      <th>5.0</th>\n",
       "      <td>3020</td>\n",
       "      <td>494</td>\n",
       "    </tr>\n",
       "    <tr>\n",
       "      <th>6.0</th>\n",
       "      <td>2993</td>\n",
       "      <td>491</td>\n",
       "    </tr>\n",
       "    <tr>\n",
       "      <th>7.0</th>\n",
       "      <td>3052</td>\n",
       "      <td>494</td>\n",
       "    </tr>\n",
       "    <tr>\n",
       "      <th>8.0</th>\n",
       "      <td>2995</td>\n",
       "      <td>485</td>\n",
       "    </tr>\n",
       "    <tr>\n",
       "      <th>9.0</th>\n",
       "      <td>2887</td>\n",
       "      <td>487</td>\n",
       "    </tr>\n",
       "    <tr>\n",
       "      <th>10.0</th>\n",
       "      <td>2980</td>\n",
       "      <td>517</td>\n",
       "    </tr>\n",
       "    <tr>\n",
       "      <th>11.0</th>\n",
       "      <td>2974</td>\n",
       "      <td>516</td>\n",
       "    </tr>\n",
       "    <tr>\n",
       "      <th>12.0</th>\n",
       "      <td>2756</td>\n",
       "      <td>516</td>\n",
       "    </tr>\n",
       "    <tr>\n",
       "      <th>13.0</th>\n",
       "      <td>3002</td>\n",
       "      <td>479</td>\n",
       "    </tr>\n",
       "    <tr>\n",
       "      <th>14.0</th>\n",
       "      <td>2992</td>\n",
       "      <td>494</td>\n",
       "    </tr>\n",
       "    <tr>\n",
       "      <th>15.0</th>\n",
       "      <td>2733</td>\n",
       "      <td>477</td>\n",
       "    </tr>\n",
       "    <tr>\n",
       "      <th>16.0</th>\n",
       "      <td>2983</td>\n",
       "      <td>512</td>\n",
       "    </tr>\n",
       "    <tr>\n",
       "      <th>17.0</th>\n",
       "      <td>2984</td>\n",
       "      <td>509</td>\n",
       "    </tr>\n",
       "    <tr>\n",
       "      <th>18.0</th>\n",
       "      <td>3269</td>\n",
       "      <td>543</td>\n",
       "    </tr>\n",
       "    <tr>\n",
       "      <th>19.0</th>\n",
       "      <td>2992</td>\n",
       "      <td>497</td>\n",
       "    </tr>\n",
       "    <tr>\n",
       "      <th>20.0</th>\n",
       "      <td>3195</td>\n",
       "      <td>495</td>\n",
       "    </tr>\n",
       "    <tr>\n",
       "      <th>21.0</th>\n",
       "      <td>3083</td>\n",
       "      <td>487</td>\n",
       "    </tr>\n",
       "    <tr>\n",
       "      <th>22.0</th>\n",
       "      <td>2904</td>\n",
       "      <td>497</td>\n",
       "    </tr>\n",
       "    <tr>\n",
       "      <th>23.0</th>\n",
       "      <td>3596</td>\n",
       "      <td>508</td>\n",
       "    </tr>\n",
       "  </tbody>\n",
       "</table>\n",
       "</div>"
      ],
      "text/plain": [
       "                                         PURCHASE_SUM  USER_COUNT\n",
       "MOST_COMMON_HOUR_OF_THE_DAY_TO_PURCHASE                          \n",
       "0.0                                              2949         492\n",
       "1.0                                              3347         518\n",
       "2.0                                              3105         524\n",
       "3.0                                              3471         484\n",
       "4.0                                              3279         512\n",
       "5.0                                              3020         494\n",
       "6.0                                              2993         491\n",
       "7.0                                              3052         494\n",
       "8.0                                              2995         485\n",
       "9.0                                              2887         487\n",
       "10.0                                             2980         517\n",
       "11.0                                             2974         516\n",
       "12.0                                             2756         516\n",
       "13.0                                             3002         479\n",
       "14.0                                             2992         494\n",
       "15.0                                             2733         477\n",
       "16.0                                             2983         512\n",
       "17.0                                             2984         509\n",
       "18.0                                             3269         543\n",
       "19.0                                             2992         497\n",
       "20.0                                             3195         495\n",
       "21.0                                             3083         487\n",
       "22.0                                             2904         497\n",
       "23.0                                             3596         508"
      ]
     },
     "execution_count": 55,
     "metadata": {},
     "output_type": "execute_result"
    }
   ],
   "source": [
    "c"
   ]
  },
  {
   "cell_type": "code",
   "execution_count": 56,
   "id": "2a086509",
   "metadata": {},
   "outputs": [
    {
     "data": {
      "text/html": [
       "<div>\n",
       "<style scoped>\n",
       "    .dataframe tbody tr th:only-of-type {\n",
       "        vertical-align: middle;\n",
       "    }\n",
       "\n",
       "    .dataframe tbody tr th {\n",
       "        vertical-align: top;\n",
       "    }\n",
       "\n",
       "    .dataframe thead th {\n",
       "        text-align: right;\n",
       "    }\n",
       "</style>\n",
       "<table border=\"1\" class=\"dataframe\">\n",
       "  <thead>\n",
       "    <tr style=\"text-align: right;\">\n",
       "      <th></th>\n",
       "      <th>PURCHASE_SUM</th>\n",
       "      <th>USER_COUNT</th>\n",
       "    </tr>\n",
       "  </thead>\n",
       "  <tbody>\n",
       "    <tr>\n",
       "      <th>count</th>\n",
       "      <td>24.000000</td>\n",
       "      <td>24.000000</td>\n",
       "    </tr>\n",
       "    <tr>\n",
       "      <th>mean</th>\n",
       "      <td>3064.208333</td>\n",
       "      <td>501.166667</td>\n",
       "    </tr>\n",
       "    <tr>\n",
       "      <th>std</th>\n",
       "      <td>204.833332</td>\n",
       "      <td>16.198944</td>\n",
       "    </tr>\n",
       "    <tr>\n",
       "      <th>min</th>\n",
       "      <td>2733.000000</td>\n",
       "      <td>477.000000</td>\n",
       "    </tr>\n",
       "    <tr>\n",
       "      <th>25%</th>\n",
       "      <td>2978.500000</td>\n",
       "      <td>490.000000</td>\n",
       "    </tr>\n",
       "    <tr>\n",
       "      <th>50%</th>\n",
       "      <td>2994.000000</td>\n",
       "      <td>496.000000</td>\n",
       "    </tr>\n",
       "    <tr>\n",
       "      <th>75%</th>\n",
       "      <td>3127.500000</td>\n",
       "      <td>513.000000</td>\n",
       "    </tr>\n",
       "    <tr>\n",
       "      <th>max</th>\n",
       "      <td>3596.000000</td>\n",
       "      <td>543.000000</td>\n",
       "    </tr>\n",
       "  </tbody>\n",
       "</table>\n",
       "</div>"
      ],
      "text/plain": [
       "       PURCHASE_SUM  USER_COUNT\n",
       "count     24.000000   24.000000\n",
       "mean    3064.208333  501.166667\n",
       "std      204.833332   16.198944\n",
       "min     2733.000000  477.000000\n",
       "25%     2978.500000  490.000000\n",
       "50%     2994.000000  496.000000\n",
       "75%     3127.500000  513.000000\n",
       "max     3596.000000  543.000000"
      ]
     },
     "execution_count": 56,
     "metadata": {},
     "output_type": "execute_result"
    }
   ],
   "source": [
    "c.describe()"
   ]
  },
  {
   "cell_type": "markdown",
   "id": "08af141c",
   "metadata": {},
   "source": [
    "## Analysing Most common weekday\n",
    "- All the days of week have same percentage of customers"
   ]
  },
  {
   "cell_type": "code",
   "execution_count": 57,
   "id": "38019c38",
   "metadata": {},
   "outputs": [
    {
     "data": {
      "text/html": [
       "<div>\n",
       "<style scoped>\n",
       "    .dataframe tbody tr th:only-of-type {\n",
       "        vertical-align: middle;\n",
       "    }\n",
       "\n",
       "    .dataframe tbody tr th {\n",
       "        vertical-align: top;\n",
       "    }\n",
       "\n",
       "    .dataframe thead th {\n",
       "        text-align: right;\n",
       "    }\n",
       "</style>\n",
       "<table border=\"1\" class=\"dataframe\">\n",
       "  <thead>\n",
       "    <tr style=\"text-align: right;\">\n",
       "      <th></th>\n",
       "      <th>PURCHASE_SUM</th>\n",
       "      <th>USER_COUNT</th>\n",
       "    </tr>\n",
       "    <tr>\n",
       "      <th>MOST_COMMON_WEEKDAY_TO_PURCHASE</th>\n",
       "      <th></th>\n",
       "      <th></th>\n",
       "    </tr>\n",
       "  </thead>\n",
       "  <tbody>\n",
       "    <tr>\n",
       "      <th>1.0</th>\n",
       "      <td>10259</td>\n",
       "      <td>1720</td>\n",
       "    </tr>\n",
       "    <tr>\n",
       "      <th>2.0</th>\n",
       "      <td>10737</td>\n",
       "      <td>1753</td>\n",
       "    </tr>\n",
       "    <tr>\n",
       "      <th>3.0</th>\n",
       "      <td>10509</td>\n",
       "      <td>1623</td>\n",
       "    </tr>\n",
       "    <tr>\n",
       "      <th>4.0</th>\n",
       "      <td>11518</td>\n",
       "      <td>1773</td>\n",
       "    </tr>\n",
       "    <tr>\n",
       "      <th>5.0</th>\n",
       "      <td>9694</td>\n",
       "      <td>1682</td>\n",
       "    </tr>\n",
       "    <tr>\n",
       "      <th>6.0</th>\n",
       "      <td>10066</td>\n",
       "      <td>1699</td>\n",
       "    </tr>\n",
       "    <tr>\n",
       "      <th>7.0</th>\n",
       "      <td>10758</td>\n",
       "      <td>1778</td>\n",
       "    </tr>\n",
       "  </tbody>\n",
       "</table>\n",
       "</div>"
      ],
      "text/plain": [
       "                                 PURCHASE_SUM  USER_COUNT\n",
       "MOST_COMMON_WEEKDAY_TO_PURCHASE                          \n",
       "1.0                                     10259        1720\n",
       "2.0                                     10737        1753\n",
       "3.0                                     10509        1623\n",
       "4.0                                     11518        1773\n",
       "5.0                                      9694        1682\n",
       "6.0                                     10066        1699\n",
       "7.0                                     10758        1778"
      ]
     },
     "execution_count": 57,
     "metadata": {},
     "output_type": "execute_result"
    }
   ],
   "source": [
    "temp = customer_data_reg[['MOST_COMMON_WEEKDAY_TO_PURCHASE','PURCHASE_COUNT']]\n",
    "temp2 = customer_data_reg[['MOST_COMMON_WEEKDAY_TO_PURCHASE','USER_ID']]\n",
    "a = temp.groupby('MOST_COMMON_WEEKDAY_TO_PURCHASE').sum().rename(columns={'PURCHASE_COUNT':'PURCHASE_SUM'})\n",
    "b = temp2.groupby('MOST_COMMON_WEEKDAY_TO_PURCHASE').count().rename(columns={'USER_ID':'USER_COUNT'})\n",
    "c= pd.merge(a,b,on='MOST_COMMON_WEEKDAY_TO_PURCHASE')\n",
    "c"
   ]
  },
  {
   "cell_type": "code",
   "execution_count": 58,
   "id": "181a8794",
   "metadata": {},
   "outputs": [
    {
     "data": {
      "text/plain": [
       "Text(0.5, 1.0, '%MOST_COMMON_WEEKDAY_TO_PURCHASE')"
      ]
     },
     "execution_count": 58,
     "metadata": {},
     "output_type": "execute_result"
    },
    {
     "data": {
      "image/png": "[encoded data removed]",
      "text/plain": [
       "<Figure size 720x720 with 1 Axes>"
      ]
     },
     "metadata": {},
     "output_type": "display_data"
    }
   ],
   "source": [
    "label = ['MONDAY', 'TUESDAY' , 'WEDNESDAY' , 'THURSDAY', 'FRIDAY', 'SATURDAY', 'SUNDAY']\n",
    "c['USER_COUNT'].plot(kind='pie', labels= label,autopct='%1.1f%%',figsize=(10,10))\n",
    "plt.ylabel(None)\n",
    "plt.title('%MOST_COMMON_WEEKDAY_TO_PURCHASE')"
   ]
  },
  {
   "cell_type": "code",
   "execution_count": 59,
   "id": "00d860a4",
   "metadata": {},
   "outputs": [
    {
     "data": {
      "text/plain": [
       "count    12028.000000\n",
       "mean         5.961218\n",
       "std          3.466263\n",
       "min          0.002000\n",
       "25%          2.950500\n",
       "50%          5.928000\n",
       "75%          8.978000\n",
       "max         11.999000\n",
       "Name: AVERAGE_DELIVERY_DISTANCE_KMS, dtype: float64"
      ]
     },
     "execution_count": 59,
     "metadata": {},
     "output_type": "execute_result"
    }
   ],
   "source": [
    "customer_data_reg['AVERAGE_DELIVERY_DISTANCE_KMS'].describe()"
   ]
  },
  {
   "cell_type": "markdown",
   "id": "4291d2d9",
   "metadata": {},
   "source": [
    "# CUSTOMER SEGMENTATION"
   ]
  },
  {
   "cell_type": "markdown",
   "id": "4e046866",
   "metadata": {},
   "source": [
    "## Segmentation Based on Activity"
   ]
  },
  {
   "cell_type": "code",
   "execution_count": 60,
   "id": "8c5f99a1",
   "metadata": {},
   "outputs": [
    {
     "data": {
      "text/plain": [
       "count    7832.000000\n",
       "mean       64.293539\n",
       "std        72.570103\n",
       "min         0.000000\n",
       "25%        18.000000\n",
       "50%        39.500000\n",
       "75%        81.000000\n",
       "max       421.000000\n",
       "Name: AVG_DAYS_BETWEEN_PURCHASES, dtype: float64"
      ]
     },
     "execution_count": 60,
     "metadata": {},
     "output_type": "execute_result"
    }
   ],
   "source": [
    "customer_data_reg['AVG_DAYS_BETWEEN_PURCHASES'].describe()\n",
    "# the mean 64 is chosen for segmenting the customers , since on average the customer has a 64 days difference between purchaces"
   ]
  },
  {
   "cell_type": "code",
   "execution_count": 61,
   "id": "69993a12",
   "metadata": {},
   "outputs": [
    {
     "data": {
      "text/plain": [
       "count    7832.000000\n",
       "mean       55.792135\n",
       "std        74.963336\n",
       "min         0.000000\n",
       "25%        10.000000\n",
       "50%        25.000000\n",
       "75%        68.250000\n",
       "max       421.000000\n",
       "Name: MEDIAN_DAYS_BETWEEN_PURCHASES, dtype: float64"
      ]
     },
     "execution_count": 61,
     "metadata": {},
     "output_type": "execute_result"
    }
   ],
   "source": [
    "customer_data_reg['MEDIAN_DAYS_BETWEEN_PURCHASES'].describe()"
   ]
  },
  {
   "cell_type": "code",
   "execution_count": 62,
   "id": "6e7b8d2c",
   "metadata": {},
   "outputs": [
    {
     "name": "stderr",
     "output_type": "stream",
     "text": [
      "C:\\Users\\talha\\AppData\\Local\\Temp\\ipykernel_14912\\897164974.py:2: SettingWithCopyWarning: \n",
      "A value is trying to be set on a copy of a slice from a DataFrame.\n",
      "Try using .loc[row_indexer,col_indexer] = value instead\n",
      "\n",
      "See the caveats in the documentation: https://pandas.pydata.org/pandas-docs/stable/user_guide/indexing.html#returning-a-view-versus-a-copy\n",
      "  df['REGISTRATION_DATE'] = pd.to_datetime(df['REGISTRATION_DATE'])\n",
      "C:\\Users\\talha\\AppData\\Local\\Temp\\ipykernel_14912\\897164974.py:3: SettingWithCopyWarning: \n",
      "A value is trying to be set on a copy of a slice from a DataFrame.\n",
      "Try using .loc[row_indexer,col_indexer] = value instead\n",
      "\n",
      "See the caveats in the documentation: https://pandas.pydata.org/pandas-docs/stable/user_guide/indexing.html#returning-a-view-versus-a-copy\n",
      "  df['FIRST_PURCHASE_DAY'] = pd.to_datetime(df['FIRST_PURCHASE_DAY'])\n",
      "C:\\Users\\talha\\AppData\\Local\\Temp\\ipykernel_14912\\897164974.py:4: SettingWithCopyWarning: \n",
      "A value is trying to be set on a copy of a slice from a DataFrame.\n",
      "Try using .loc[row_indexer,col_indexer] = value instead\n",
      "\n",
      "See the caveats in the documentation: https://pandas.pydata.org/pandas-docs/stable/user_guide/indexing.html#returning-a-view-versus-a-copy\n",
      "  df['LAST_PURCHASE_DAY'] = pd.to_datetime(df['LAST_PURCHASE_DAY'])\n",
      "C:\\Users\\talha\\AppData\\Local\\Temp\\ipykernel_14912\\897164974.py:6: SettingWithCopyWarning: \n",
      "A value is trying to be set on a copy of a slice from a DataFrame.\n",
      "Try using .loc[row_indexer,col_indexer] = value instead\n",
      "\n",
      "See the caveats in the documentation: https://pandas.pydata.org/pandas-docs/stable/user_guide/indexing.html#returning-a-view-versus-a-copy\n",
      "  df['days_since_registration'] = (df['REGISTRATION_DATE'] - start_date).dt.days\n",
      "C:\\Users\\talha\\AppData\\Local\\Temp\\ipykernel_14912\\897164974.py:7: SettingWithCopyWarning: \n",
      "A value is trying to be set on a copy of a slice from a DataFrame.\n",
      "Try using .loc[row_indexer,col_indexer] = value instead\n",
      "\n",
      "See the caveats in the documentation: https://pandas.pydata.org/pandas-docs/stable/user_guide/indexing.html#returning-a-view-versus-a-copy\n",
      "  df['days_between_first_last_purchase'] = (df['LAST_PURCHASE_DAY'] - df['FIRST_PURCHASE_DAY']).dt.days\n",
      "C:\\Users\\talha\\AppData\\Local\\Temp\\ipykernel_14912\\897164974.py:9: SettingWithCopyWarning: \n",
      "A value is trying to be set on a copy of a slice from a DataFrame.\n",
      "Try using .loc[row_indexer,col_indexer] = value instead\n",
      "\n",
      "See the caveats in the documentation: https://pandas.pydata.org/pandas-docs/stable/user_guide/indexing.html#returning-a-view-versus-a-copy\n",
      "  df['days_since_last_purchase'] = (end_date - df['LAST_PURCHASE_DAY']).dt.days\n",
      "C:\\Users\\talha\\AppData\\Local\\Temp\\ipykernel_14912\\897164974.py:19: SettingWithCopyWarning: \n",
      "A value is trying to be set on a copy of a slice from a DataFrame.\n",
      "Try using .loc[row_indexer,col_indexer] = value instead\n",
      "\n",
      "See the caveats in the documentation: https://pandas.pydata.org/pandas-docs/stable/user_guide/indexing.html#returning-a-view-versus-a-copy\n",
      "  df['last_purchase_segment'] = df['days_since_last_purchase'].apply(last_purchase_segment)\n"
     ]
    },
    {
     "data": {
      "image/png": "[encoded data removed]",
      "text/plain": [
       "<Figure size 432x288 with 1 Axes>"
      ]
     },
     "metadata": {
      "needs_background": "light"
     },
     "output_type": "display_data"
    }
   ],
   "source": [
    "df = customer_data_reg[['REGISTRATION_DATE','FIRST_PURCHASE_DAY','LAST_PURCHASE_DAY']]\n",
    "df['REGISTRATION_DATE'] = pd.to_datetime(df['REGISTRATION_DATE'])\n",
    "df['FIRST_PURCHASE_DAY'] = pd.to_datetime(df['FIRST_PURCHASE_DAY'])\n",
    "df['LAST_PURCHASE_DAY'] = pd.to_datetime(df['LAST_PURCHASE_DAY'])\n",
    "start_date = pd.to_datetime('2019-09-01')\n",
    "df['days_since_registration'] = (df['REGISTRATION_DATE'] - start_date).dt.days\n",
    "df['days_between_first_last_purchase'] = (df['LAST_PURCHASE_DAY'] - df['FIRST_PURCHASE_DAY']).dt.days\n",
    "end_date = pd.to_datetime('2020-10-31')\n",
    "df['days_since_last_purchase'] = (end_date - df['LAST_PURCHASE_DAY']).dt.days\n",
    "def last_purchase_segment(days_since_last_purchase):\n",
    "    if days_since_last_purchase <= 30:\n",
    "        return 'VIP'\n",
    "    elif days_since_last_purchase > 30 and days_since_last_purchase <= 64:\n",
    "        return 'Regular'\n",
    "    elif days_since_last_purchase > 64 and days_since_last_purchase <= 90:\n",
    "        return 'Casual'\n",
    "    else:\n",
    "        return 'Not Active'\n",
    "df['last_purchase_segment'] = df['days_since_last_purchase'].apply(last_purchase_segment)\n",
    "sns.countplot(x='last_purchase_segment', data=df)\n",
    "plt.title('User Segmentation based on Time since last Purchase')\n",
    "plt.xlabel('Status')\n",
    "plt.ylabel('Number of Users')\n",
    "plt.show()\n"
   ]
  },
  {
   "cell_type": "markdown",
   "id": "28d6f0d8",
   "metadata": {},
   "source": [
    "## Segmentation based on Purchase count and Amount Spend"
   ]
  },
  {
   "cell_type": "code",
   "execution_count": 63,
   "id": "15e52ca8",
   "metadata": {},
   "outputs": [
    {
     "data": {
      "text/plain": [
       "(PURCHASE_COUNT           6.114150\n",
       " TOTAL_PURCHASES_EUR    176.210419\n",
       " dtype: float64,\n",
       " PURCHASE_COUNT          3.0\n",
       " TOTAL_PURCHASES_EUR    75.9\n",
       " dtype: float64,\n",
       " PURCHASE_COUNT          320.00\n",
       " TOTAL_PURCHASES_EUR    7979.62\n",
       " dtype: float64)"
      ]
     },
     "execution_count": 63,
     "metadata": {},
     "output_type": "execute_result"
    }
   ],
   "source": [
    "# With one time customers\n",
    "df = customer_data_reg[['PURCHASE_COUNT','TOTAL_PURCHASES_EUR']]\n",
    "df.mean() , df.median() , df.max()"
   ]
  },
  {
   "cell_type": "code",
   "execution_count": 64,
   "id": "6f88cf66",
   "metadata": {},
   "outputs": [
    {
     "data": {
      "text/html": [
       "<div>\n",
       "<style scoped>\n",
       "    .dataframe tbody tr th:only-of-type {\n",
       "        vertical-align: middle;\n",
       "    }\n",
       "\n",
       "    .dataframe tbody tr th {\n",
       "        vertical-align: top;\n",
       "    }\n",
       "\n",
       "    .dataframe thead th {\n",
       "        text-align: right;\n",
       "    }\n",
       "</style>\n",
       "<table border=\"1\" class=\"dataframe\">\n",
       "  <thead>\n",
       "    <tr style=\"text-align: right;\">\n",
       "      <th></th>\n",
       "      <th>PURCHASE_COUNT</th>\n",
       "      <th>TOTAL_PURCHASES_EUR</th>\n",
       "    </tr>\n",
       "  </thead>\n",
       "  <tbody>\n",
       "    <tr>\n",
       "      <th>count</th>\n",
       "      <td>12028.000000</td>\n",
       "      <td>12028.000000</td>\n",
       "    </tr>\n",
       "    <tr>\n",
       "      <th>mean</th>\n",
       "      <td>6.114150</td>\n",
       "      <td>176.210419</td>\n",
       "    </tr>\n",
       "    <tr>\n",
       "      <th>std</th>\n",
       "      <td>10.763064</td>\n",
       "      <td>299.086986</td>\n",
       "    </tr>\n",
       "    <tr>\n",
       "      <th>min</th>\n",
       "      <td>1.000000</td>\n",
       "      <td>1.012000</td>\n",
       "    </tr>\n",
       "    <tr>\n",
       "      <th>25%</th>\n",
       "      <td>1.000000</td>\n",
       "      <td>32.384000</td>\n",
       "    </tr>\n",
       "    <tr>\n",
       "      <th>50%</th>\n",
       "      <td>3.000000</td>\n",
       "      <td>75.900000</td>\n",
       "    </tr>\n",
       "    <tr>\n",
       "      <th>75%</th>\n",
       "      <td>6.000000</td>\n",
       "      <td>196.328000</td>\n",
       "    </tr>\n",
       "    <tr>\n",
       "      <th>max</th>\n",
       "      <td>320.000000</td>\n",
       "      <td>7979.620000</td>\n",
       "    </tr>\n",
       "  </tbody>\n",
       "</table>\n",
       "</div>"
      ],
      "text/plain": [
       "       PURCHASE_COUNT  TOTAL_PURCHASES_EUR\n",
       "count    12028.000000         12028.000000\n",
       "mean         6.114150           176.210419\n",
       "std         10.763064           299.086986\n",
       "min          1.000000             1.012000\n",
       "25%          1.000000            32.384000\n",
       "50%          3.000000            75.900000\n",
       "75%          6.000000           196.328000\n",
       "max        320.000000          7979.620000"
      ]
     },
     "execution_count": 64,
     "metadata": {},
     "output_type": "execute_result"
    }
   ],
   "source": [
    "df.describe()"
   ]
  },
  {
   "cell_type": "code",
   "execution_count": 65,
   "id": "c5fd018e",
   "metadata": {},
   "outputs": [],
   "source": [
    "# without one time ustomers\n",
    "df = customer_data_reg[['PURCHASE_COUNT','TOTAL_PURCHASES_EUR']]"
   ]
  },
  {
   "cell_type": "code",
   "execution_count": 66,
   "id": "42ec9a31",
   "metadata": {},
   "outputs": [
    {
     "name": "stderr",
     "output_type": "stream",
     "text": [
      "C:\\Users\\talha\\AppData\\Local\\Temp\\ipykernel_14912\\987733392.py:10: SettingWithCopyWarning: \n",
      "A value is trying to be set on a copy of a slice from a DataFrame.\n",
      "Try using .loc[row_indexer,col_indexer] = value instead\n",
      "\n",
      "See the caveats in the documentation: https://pandas.pydata.org/pandas-docs/stable/user_guide/indexing.html#returning-a-view-versus-a-copy\n",
      "  df['purchase_count_segment'] = df['PURCHASE_COUNT'].apply(purchase_count_segment)\n"
     ]
    }
   ],
   "source": [
    "\n",
    "def purchase_count_segment(purchase_count):\n",
    "    if purchase_count == 1:\n",
    "        return 'One Time Purchase'\n",
    "    elif purchase_count > 1 and purchase_count <= 3:\n",
    "        return 'Median Purchase'\n",
    "    elif purchase_count > 3 and purchase_count <= 7:\n",
    "        return 'Average Purchase'\n",
    "    else:\n",
    "        return 'High Purchase'\n",
    "df['purchase_count_segment'] = df['PURCHASE_COUNT'].apply(purchase_count_segment)\n",
    "\n",
    "\n"
   ]
  },
  {
   "cell_type": "code",
   "execution_count": 67,
   "id": "ac7dcbc2",
   "metadata": {},
   "outputs": [
    {
     "data": {
      "image/png": "[encoded data removed]",
      "text/plain": [
       "<Figure size 720x360 with 1 Axes>"
      ]
     },
     "metadata": {
      "needs_background": "light"
     },
     "output_type": "display_data"
    }
   ],
   "source": [
    "# Visualize the results\n",
    "plt.figure(figsize=(10,5))\n",
    "sns.countplot(x='purchase_count_segment', data=df)\n",
    "plt.title('User Segmentation based on Purchase Count')\n",
    "plt.xlabel('Purchase Count Segment')\n",
    "plt.ylabel('Number of Users')\n",
    "plt.show()\n"
   ]
  },
  {
   "cell_type": "code",
   "execution_count": 68,
   "id": "4829aa9a",
   "metadata": {},
   "outputs": [
    {
     "data": {
      "text/html": [
       "<div>\n",
       "<style scoped>\n",
       "    .dataframe tbody tr th:only-of-type {\n",
       "        vertical-align: middle;\n",
       "    }\n",
       "\n",
       "    .dataframe tbody tr th {\n",
       "        vertical-align: top;\n",
       "    }\n",
       "\n",
       "    .dataframe thead th {\n",
       "        text-align: right;\n",
       "    }\n",
       "</style>\n",
       "<table border=\"1\" class=\"dataframe\">\n",
       "  <thead>\n",
       "    <tr style=\"text-align: right;\">\n",
       "      <th></th>\n",
       "      <th>PURCHASE_COUNT</th>\n",
       "      <th>TOTAL_PURCHASES_EUR</th>\n",
       "    </tr>\n",
       "  </thead>\n",
       "  <tbody>\n",
       "    <tr>\n",
       "      <th>count</th>\n",
       "      <td>7849.000000</td>\n",
       "      <td>7849.000000</td>\n",
       "    </tr>\n",
       "    <tr>\n",
       "      <th>mean</th>\n",
       "      <td>8.837049</td>\n",
       "      <td>253.014441</td>\n",
       "    </tr>\n",
       "    <tr>\n",
       "      <th>std</th>\n",
       "      <td>12.497485</td>\n",
       "      <td>346.038189</td>\n",
       "    </tr>\n",
       "    <tr>\n",
       "      <th>min</th>\n",
       "      <td>2.000000</td>\n",
       "      <td>6.072000</td>\n",
       "    </tr>\n",
       "    <tr>\n",
       "      <th>25%</th>\n",
       "      <td>3.000000</td>\n",
       "      <td>74.888000</td>\n",
       "    </tr>\n",
       "    <tr>\n",
       "      <th>50%</th>\n",
       "      <td>5.000000</td>\n",
       "      <td>141.680000</td>\n",
       "    </tr>\n",
       "    <tr>\n",
       "      <th>75%</th>\n",
       "      <td>10.000000</td>\n",
       "      <td>298.540000</td>\n",
       "    </tr>\n",
       "    <tr>\n",
       "      <th>max</th>\n",
       "      <td>320.000000</td>\n",
       "      <td>7979.620000</td>\n",
       "    </tr>\n",
       "  </tbody>\n",
       "</table>\n",
       "</div>"
      ],
      "text/plain": [
       "       PURCHASE_COUNT  TOTAL_PURCHASES_EUR\n",
       "count     7849.000000          7849.000000\n",
       "mean         8.837049           253.014441\n",
       "std         12.497485           346.038189\n",
       "min          2.000000             6.072000\n",
       "25%          3.000000            74.888000\n",
       "50%          5.000000           141.680000\n",
       "75%         10.000000           298.540000\n",
       "max        320.000000          7979.620000"
      ]
     },
     "execution_count": 68,
     "metadata": {},
     "output_type": "execute_result"
    }
   ],
   "source": [
    "df = customer_data_reg[['PURCHASE_COUNT','TOTAL_PURCHASES_EUR']]\n",
    "df = df[df['PURCHASE_COUNT']>1]\n",
    "df.describe()"
   ]
  },
  {
   "cell_type": "code",
   "execution_count": 74,
   "id": "3b4c8afd",
   "metadata": {},
   "outputs": [
    {
     "data": {
      "image/png": "[encoded data removed]",
      "text/plain": [
       "<Figure size 720x360 with 1 Axes>"
      ]
     },
     "metadata": {
      "needs_background": "light"
     },
     "output_type": "display_data"
    }
   ],
   "source": [
    "def purchase_value_segment(total_purchase_value):\n",
    "    if total_purchase_value <= 74:\n",
    "        return 'Low Spenders'\n",
    "    elif total_purchase_value > 74 and total_purchase_value <= 253.014441:\n",
    "        return 'Mid Spenders'\n",
    "    elif total_purchase_value > 253.014441 and total_purchase_value <= 600:\n",
    "        return 'High Spenders'\n",
    "    else:\n",
    "        return 'Top Spenders'\n",
    "df['purchase_value_segment'] = df['TOTAL_PURCHASES_EUR'].apply(purchase_value_segment)\n",
    "\n",
    "\n",
    "plt.figure(figsize=(10,5))\n",
    "sns.countplot(x='purchase_value_segment', data=df)\n",
    "plt.title('User Segmentation based on Total Purchase Value')\n",
    "plt.xlabel('Total Purchase Value Segment')\n",
    "plt.ylabel('Number of Users')\n",
    "plt.show()"
   ]
  },
  {
   "cell_type": "code",
   "execution_count": 75,
   "id": "1568de71",
   "metadata": {},
   "outputs": [
    {
     "data": {
      "text/html": [
       "<div>\n",
       "<style scoped>\n",
       "    .dataframe tbody tr th:only-of-type {\n",
       "        vertical-align: middle;\n",
       "    }\n",
       "\n",
       "    .dataframe tbody tr th {\n",
       "        vertical-align: top;\n",
       "    }\n",
       "\n",
       "    .dataframe thead th {\n",
       "        text-align: right;\n",
       "    }\n",
       "</style>\n",
       "<table border=\"1\" class=\"dataframe\">\n",
       "  <thead>\n",
       "    <tr style=\"text-align: right;\">\n",
       "      <th></th>\n",
       "      <th>PURCHASE_COUNT</th>\n",
       "      <th>TOTAL_PURCHASES_EUR</th>\n",
       "      <th>purchase_value_segment</th>\n",
       "    </tr>\n",
       "  </thead>\n",
       "  <tbody>\n",
       "    <tr>\n",
       "      <th>2</th>\n",
       "      <td>19</td>\n",
       "      <td>631.488</td>\n",
       "      <td>Top Spenders</td>\n",
       "    </tr>\n",
       "    <tr>\n",
       "      <th>12</th>\n",
       "      <td>19</td>\n",
       "      <td>587.972</td>\n",
       "      <td>High Spenders</td>\n",
       "    </tr>\n",
       "    <tr>\n",
       "      <th>13</th>\n",
       "      <td>2</td>\n",
       "      <td>118.404</td>\n",
       "      <td>Mid Spenders</td>\n",
       "    </tr>\n",
       "    <tr>\n",
       "      <th>15</th>\n",
       "      <td>2</td>\n",
       "      <td>107.272</td>\n",
       "      <td>Mid Spenders</td>\n",
       "    </tr>\n",
       "    <tr>\n",
       "      <th>16</th>\n",
       "      <td>7</td>\n",
       "      <td>284.372</td>\n",
       "      <td>High Spenders</td>\n",
       "    </tr>\n",
       "    <tr>\n",
       "      <th>...</th>\n",
       "      <td>...</td>\n",
       "      <td>...</td>\n",
       "      <td>...</td>\n",
       "    </tr>\n",
       "    <tr>\n",
       "      <th>21966</th>\n",
       "      <td>2</td>\n",
       "      <td>95.128</td>\n",
       "      <td>Mid Spenders</td>\n",
       "    </tr>\n",
       "    <tr>\n",
       "      <th>21969</th>\n",
       "      <td>6</td>\n",
       "      <td>115.368</td>\n",
       "      <td>Mid Spenders</td>\n",
       "    </tr>\n",
       "    <tr>\n",
       "      <th>21971</th>\n",
       "      <td>25</td>\n",
       "      <td>247.940</td>\n",
       "      <td>Mid Spenders</td>\n",
       "    </tr>\n",
       "    <tr>\n",
       "      <th>21972</th>\n",
       "      <td>4</td>\n",
       "      <td>52.624</td>\n",
       "      <td>Low Spenders</td>\n",
       "    </tr>\n",
       "    <tr>\n",
       "      <th>21975</th>\n",
       "      <td>4</td>\n",
       "      <td>22.264</td>\n",
       "      <td>Low Spenders</td>\n",
       "    </tr>\n",
       "  </tbody>\n",
       "</table>\n",
       "<p>7849 rows × 3 columns</p>\n",
       "</div>"
      ],
      "text/plain": [
       "       PURCHASE_COUNT  TOTAL_PURCHASES_EUR purchase_value_segment\n",
       "2                  19              631.488           Top Spenders\n",
       "12                 19              587.972          High Spenders\n",
       "13                  2              118.404           Mid Spenders\n",
       "15                  2              107.272           Mid Spenders\n",
       "16                  7              284.372          High Spenders\n",
       "...               ...                  ...                    ...\n",
       "21966               2               95.128           Mid Spenders\n",
       "21969               6              115.368           Mid Spenders\n",
       "21971              25              247.940           Mid Spenders\n",
       "21972               4               52.624           Low Spenders\n",
       "21975               4               22.264           Low Spenders\n",
       "\n",
       "[7849 rows x 3 columns]"
      ]
     },
     "execution_count": 75,
     "metadata": {},
     "output_type": "execute_result"
    }
   ],
   "source": [
    "df"
   ]
  },
  {
   "cell_type": "markdown",
   "id": "a4c979b6",
   "metadata": {},
   "source": [
    "### Customer By Store Type"
   ]
  },
  {
   "cell_type": "code",
   "execution_count": 78,
   "id": "a2c976df",
   "metadata": {},
   "outputs": [
    {
     "data": {
      "text/html": [
       "<div>\n",
       "<style scoped>\n",
       "    .dataframe tbody tr th:only-of-type {\n",
       "        vertical-align: middle;\n",
       "    }\n",
       "\n",
       "    .dataframe tbody tr th {\n",
       "        vertical-align: top;\n",
       "    }\n",
       "\n",
       "    .dataframe thead th {\n",
       "        text-align: right;\n",
       "    }\n",
       "</style>\n",
       "<table border=\"1\" class=\"dataframe\">\n",
       "  <thead>\n",
       "    <tr style=\"text-align: right;\">\n",
       "      <th></th>\n",
       "      <th>Generalmerchandise</th>\n",
       "      <th>Grocery</th>\n",
       "      <th>Petsupplies</th>\n",
       "      <th>Restaurant</th>\n",
       "      <th>Retailstore</th>\n",
       "    </tr>\n",
       "  </thead>\n",
       "  <tbody>\n",
       "    <tr>\n",
       "      <th>0</th>\n",
       "      <td>0</td>\n",
       "      <td>0</td>\n",
       "      <td>0</td>\n",
       "      <td>1</td>\n",
       "      <td>0</td>\n",
       "    </tr>\n",
       "    <tr>\n",
       "      <th>1</th>\n",
       "      <td>1</td>\n",
       "      <td>9</td>\n",
       "      <td>0</td>\n",
       "      <td>9</td>\n",
       "      <td>0</td>\n",
       "    </tr>\n",
       "    <tr>\n",
       "      <th>2</th>\n",
       "      <td>0</td>\n",
       "      <td>0</td>\n",
       "      <td>0</td>\n",
       "      <td>1</td>\n",
       "      <td>0</td>\n",
       "    </tr>\n",
       "    <tr>\n",
       "      <th>3</th>\n",
       "      <td>1</td>\n",
       "      <td>9</td>\n",
       "      <td>0</td>\n",
       "      <td>9</td>\n",
       "      <td>0</td>\n",
       "    </tr>\n",
       "    <tr>\n",
       "      <th>4</th>\n",
       "      <td>0</td>\n",
       "      <td>0</td>\n",
       "      <td>0</td>\n",
       "      <td>2</td>\n",
       "      <td>0</td>\n",
       "    </tr>\n",
       "  </tbody>\n",
       "</table>\n",
       "</div>"
      ],
      "text/plain": [
       "   Generalmerchandise  Grocery  Petsupplies  Restaurant  Retailstore\n",
       "0                   0        0            0           1            0\n",
       "1                   1        9            0           9            0\n",
       "2                   0        0            0           1            0\n",
       "3                   1        9            0           9            0\n",
       "4                   0        0            0           2            0"
      ]
     },
     "execution_count": 78,
     "metadata": {},
     "output_type": "execute_result"
    }
   ],
   "source": [
    "# Segment users based on purchase count by store type\n",
    "import json\n",
    "# Function to convert the string representation of a dictionary into a Python dictionary\n",
    "def parse_dict(s):\n",
    "    # Remove newlines and spaces\n",
    "    s = s.replace('\\n', '').replace(' ', '')\n",
    "    # Parse the JSON string and return the resulting dictionary\n",
    "    return json.loads(s)\n",
    "\n",
    "# Apply the parse_dict function to the 'category_counts' column to create a list of dictionaries\n",
    "dict_list = [parse_dict(s) for s in customer_data_reg[ \"PURCHASE_COUNT_BY_STORE_TYPE\"]]\n",
    "\n",
    "# Create a pandas dataframe from the list of dictionaries\n",
    "df = pd.DataFrame(dict_list)\n",
    "\n",
    "# Rename the columns to remove spaces\n",
    "df.columns = [c.replace(' ', '_') for c in df.columns]\n",
    "\n",
    "df.head()"
   ]
  },
  {
   "cell_type": "code",
   "execution_count": 79,
   "id": "54f0189d",
   "metadata": {
    "scrolled": true
   },
   "outputs": [
    {
     "data": {
      "image/png": "[encoded data removed]",
      "text/plain": [
       "<Figure size 576x576 with 1 Axes>"
      ]
     },
     "metadata": {},
     "output_type": "display_data"
    }
   ],
   "source": [
    "general_merchandise_count = len(df[df['Generalmerchandise'] >= 1])\n",
    "grocery_count = len(df[df['Grocery'] >= 1])\n",
    "pet_supplies_count = len(df[df['Petsupplies'] >= 1])\n",
    "restaurant_count = len(df[df['Restaurant'] >= 1])\n",
    "retail_store_count = len(df[df['Retailstore'] >= 1])\n",
    "\n",
    "counts = [general_merchandise_count, grocery_count, pet_supplies_count, restaurant_count, retail_store_count]\n",
    "labels = ['General Merchandise', 'Grocery', 'Pet Supplies', 'Restaurant', 'Retail Store']\n",
    "\n",
    "fig, ax = plt.subplots(figsize=(8, 8))\n",
    "ax.pie(counts, labels=labels, autopct='%1.1f%%', shadow=True)\n",
    "ax.axis('equal')\n",
    "ax.set_title('%Customer Segments by Store Type')\n",
    "plt.show()"
   ]
  },
  {
   "cell_type": "markdown",
   "id": "838fcbb2",
   "metadata": {},
   "source": [
    "## Customer By breakfast,lunch,evening, dinner and late night of day purchase"
   ]
  },
  {
   "cell_type": "code",
   "execution_count": 68,
   "id": "0794e8c4",
   "metadata": {},
   "outputs": [
    {
     "data": {
      "text/html": [
       "<div>\n",
       "<style scoped>\n",
       "    .dataframe tbody tr th:only-of-type {\n",
       "        vertical-align: middle;\n",
       "    }\n",
       "\n",
       "    .dataframe tbody tr th {\n",
       "        vertical-align: top;\n",
       "    }\n",
       "\n",
       "    .dataframe thead th {\n",
       "        text-align: right;\n",
       "    }\n",
       "</style>\n",
       "<table border=\"1\" class=\"dataframe\">\n",
       "  <thead>\n",
       "    <tr style=\"text-align: right;\">\n",
       "      <th></th>\n",
       "      <th>USER_ID</th>\n",
       "      <th>BREAKFAST_PURCHASES</th>\n",
       "      <th>LUNCH_PURCHASES</th>\n",
       "      <th>EVENING_PURCHASES</th>\n",
       "      <th>DINNER_PURCHASES</th>\n",
       "      <th>LATE_NIGHT_PURCHASES</th>\n",
       "    </tr>\n",
       "  </thead>\n",
       "  <tbody>\n",
       "    <tr>\n",
       "      <th>1</th>\n",
       "      <td>2</td>\n",
       "      <td>0.0</td>\n",
       "      <td>1.0</td>\n",
       "      <td>0.0</td>\n",
       "      <td>0.0</td>\n",
       "      <td>0.0</td>\n",
       "    </tr>\n",
       "    <tr>\n",
       "      <th>2</th>\n",
       "      <td>3</td>\n",
       "      <td>0.0</td>\n",
       "      <td>4.0</td>\n",
       "      <td>1.0</td>\n",
       "      <td>14.0</td>\n",
       "      <td>0.0</td>\n",
       "    </tr>\n",
       "    <tr>\n",
       "      <th>7</th>\n",
       "      <td>8</td>\n",
       "      <td>0.0</td>\n",
       "      <td>0.0</td>\n",
       "      <td>1.0</td>\n",
       "      <td>0.0</td>\n",
       "      <td>0.0</td>\n",
       "    </tr>\n",
       "    <tr>\n",
       "      <th>12</th>\n",
       "      <td>13</td>\n",
       "      <td>0.0</td>\n",
       "      <td>8.0</td>\n",
       "      <td>0.0</td>\n",
       "      <td>11.0</td>\n",
       "      <td>0.0</td>\n",
       "    </tr>\n",
       "    <tr>\n",
       "      <th>13</th>\n",
       "      <td>14</td>\n",
       "      <td>0.0</td>\n",
       "      <td>1.0</td>\n",
       "      <td>1.0</td>\n",
       "      <td>0.0</td>\n",
       "      <td>0.0</td>\n",
       "    </tr>\n",
       "    <tr>\n",
       "      <th>...</th>\n",
       "      <td>...</td>\n",
       "      <td>...</td>\n",
       "      <td>...</td>\n",
       "      <td>...</td>\n",
       "      <td>...</td>\n",
       "      <td>...</td>\n",
       "    </tr>\n",
       "    <tr>\n",
       "      <th>21973</th>\n",
       "      <td>21974</td>\n",
       "      <td>0.0</td>\n",
       "      <td>0.0</td>\n",
       "      <td>0.0</td>\n",
       "      <td>1.0</td>\n",
       "      <td>0.0</td>\n",
       "    </tr>\n",
       "    <tr>\n",
       "      <th>21975</th>\n",
       "      <td>21976</td>\n",
       "      <td>2.0</td>\n",
       "      <td>2.0</td>\n",
       "      <td>0.0</td>\n",
       "      <td>0.0</td>\n",
       "      <td>0.0</td>\n",
       "    </tr>\n",
       "    <tr>\n",
       "      <th>21976</th>\n",
       "      <td>21977</td>\n",
       "      <td>0.0</td>\n",
       "      <td>0.0</td>\n",
       "      <td>1.0</td>\n",
       "      <td>0.0</td>\n",
       "      <td>0.0</td>\n",
       "    </tr>\n",
       "    <tr>\n",
       "      <th>21978</th>\n",
       "      <td>21979</td>\n",
       "      <td>0.0</td>\n",
       "      <td>0.0</td>\n",
       "      <td>1.0</td>\n",
       "      <td>0.0</td>\n",
       "      <td>0.0</td>\n",
       "    </tr>\n",
       "    <tr>\n",
       "      <th>21982</th>\n",
       "      <td>21983</td>\n",
       "      <td>0.0</td>\n",
       "      <td>1.0</td>\n",
       "      <td>0.0</td>\n",
       "      <td>0.0</td>\n",
       "      <td>0.0</td>\n",
       "    </tr>\n",
       "  </tbody>\n",
       "</table>\n",
       "<p>12028 rows × 6 columns</p>\n",
       "</div>"
      ],
      "text/plain": [
       "       USER_ID  BREAKFAST_PURCHASES  LUNCH_PURCHASES  EVENING_PURCHASES  \\\n",
       "1            2                  0.0              1.0                0.0   \n",
       "2            3                  0.0              4.0                1.0   \n",
       "7            8                  0.0              0.0                1.0   \n",
       "12          13                  0.0              8.0                0.0   \n",
       "13          14                  0.0              1.0                1.0   \n",
       "...        ...                  ...              ...                ...   \n",
       "21973    21974                  0.0              0.0                0.0   \n",
       "21975    21976                  2.0              2.0                0.0   \n",
       "21976    21977                  0.0              0.0                1.0   \n",
       "21978    21979                  0.0              0.0                1.0   \n",
       "21982    21983                  0.0              1.0                0.0   \n",
       "\n",
       "       DINNER_PURCHASES  LATE_NIGHT_PURCHASES  \n",
       "1                   0.0                   0.0  \n",
       "2                  14.0                   0.0  \n",
       "7                   0.0                   0.0  \n",
       "12                 11.0                   0.0  \n",
       "13                  0.0                   0.0  \n",
       "...                 ...                   ...  \n",
       "21973               1.0                   0.0  \n",
       "21975               0.0                   0.0  \n",
       "21976               0.0                   0.0  \n",
       "21978               0.0                   0.0  \n",
       "21982               0.0                   0.0  \n",
       "\n",
       "[12028 rows x 6 columns]"
      ]
     },
     "execution_count": 68,
     "metadata": {},
     "output_type": "execute_result"
    }
   ],
   "source": [
    "df = customer_data_reg[['USER_ID','BREAKFAST_PURCHASES','LUNCH_PURCHASES','EVENING_PURCHASES','DINNER_PURCHASES','LATE_NIGHT_PURCHASES']]\n",
    "df"
   ]
  },
  {
   "cell_type": "code",
   "execution_count": 69,
   "id": "d023c2ba",
   "metadata": {},
   "outputs": [
    {
     "data": {
      "image/png": "[encoded data removed]",
      "text/plain": [
       "<Figure size 1080x720 with 1 Axes>"
      ]
     },
     "metadata": {},
     "output_type": "display_data"
    }
   ],
   "source": [
    "BREAKFAST_PURCHASES = len(df[df['BREAKFAST_PURCHASES'] >= 1])\n",
    "LUNCH_PURCHASES = len(df[df['LUNCH_PURCHASES'] >= 1])\n",
    "EVENING_PURCHASES = len(df[df['EVENING_PURCHASES'] >= 1])\n",
    "DINNER_PURCHASES = len(df[df['DINNER_PURCHASES'] >= 1])\n",
    "LATE_NIGHT_PURCHASES = len(df[df['LATE_NIGHT_PURCHASES'] >= 1])\n",
    "\n",
    "counts = [BREAKFAST_PURCHASES, LUNCH_PURCHASES, EVENING_PURCHASES, DINNER_PURCHASES, LATE_NIGHT_PURCHASES]\n",
    "labels = ['BREAKFAST_Customer', 'LUNCH_Customer', 'EVENING_Customer', 'DINNER_Customer', 'LATE_NIGHT_Customer']\n",
    "\n",
    "fig, ax = plt.subplots(figsize=(15, 10))\n",
    "ax.pie(counts, labels=labels, autopct='%1.1f%%', shadow=True)\n",
    "ax.axis('equal')\n",
    "ax.set_title('%Customer Segments Purchase')\n",
    "plt.show()"
   ]
  },
  {
   "cell_type": "code",
   "execution_count": 70,
   "id": "d433c438",
   "metadata": {},
   "outputs": [
    {
     "data": {
      "text/html": [
       "<div>\n",
       "<style scoped>\n",
       "    .dataframe tbody tr th:only-of-type {\n",
       "        vertical-align: middle;\n",
       "    }\n",
       "\n",
       "    .dataframe tbody tr th {\n",
       "        vertical-align: top;\n",
       "    }\n",
       "\n",
       "    .dataframe thead th {\n",
       "        text-align: right;\n",
       "    }\n",
       "</style>\n",
       "<table border=\"1\" class=\"dataframe\">\n",
       "  <thead>\n",
       "    <tr style=\"text-align: right;\">\n",
       "      <th></th>\n",
       "      <th>PREFERRED_DEVICE</th>\n",
       "      <th>IOS_PURCHASES</th>\n",
       "      <th>WEB_PURCHASES</th>\n",
       "      <th>ANDROID_PURCHASES</th>\n",
       "    </tr>\n",
       "  </thead>\n",
       "  <tbody>\n",
       "    <tr>\n",
       "      <th>1</th>\n",
       "      <td>android</td>\n",
       "      <td>0.0</td>\n",
       "      <td>0.0</td>\n",
       "      <td>1.0</td>\n",
       "    </tr>\n",
       "    <tr>\n",
       "      <th>2</th>\n",
       "      <td>android</td>\n",
       "      <td>0.0</td>\n",
       "      <td>19.0</td>\n",
       "      <td>0.0</td>\n",
       "    </tr>\n",
       "    <tr>\n",
       "      <th>7</th>\n",
       "      <td>android</td>\n",
       "      <td>0.0</td>\n",
       "      <td>0.0</td>\n",
       "      <td>1.0</td>\n",
       "    </tr>\n",
       "    <tr>\n",
       "      <th>12</th>\n",
       "      <td>ios</td>\n",
       "      <td>19.0</td>\n",
       "      <td>0.0</td>\n",
       "      <td>0.0</td>\n",
       "    </tr>\n",
       "    <tr>\n",
       "      <th>13</th>\n",
       "      <td>ios</td>\n",
       "      <td>0.0</td>\n",
       "      <td>0.0</td>\n",
       "      <td>2.0</td>\n",
       "    </tr>\n",
       "    <tr>\n",
       "      <th>...</th>\n",
       "      <td>...</td>\n",
       "      <td>...</td>\n",
       "      <td>...</td>\n",
       "      <td>...</td>\n",
       "    </tr>\n",
       "    <tr>\n",
       "      <th>21973</th>\n",
       "      <td>android</td>\n",
       "      <td>0.0</td>\n",
       "      <td>0.0</td>\n",
       "      <td>1.0</td>\n",
       "    </tr>\n",
       "    <tr>\n",
       "      <th>21975</th>\n",
       "      <td>android</td>\n",
       "      <td>0.0</td>\n",
       "      <td>0.0</td>\n",
       "      <td>4.0</td>\n",
       "    </tr>\n",
       "    <tr>\n",
       "      <th>21976</th>\n",
       "      <td>android</td>\n",
       "      <td>0.0</td>\n",
       "      <td>0.0</td>\n",
       "      <td>1.0</td>\n",
       "    </tr>\n",
       "    <tr>\n",
       "      <th>21978</th>\n",
       "      <td>android</td>\n",
       "      <td>0.0</td>\n",
       "      <td>0.0</td>\n",
       "      <td>1.0</td>\n",
       "    </tr>\n",
       "    <tr>\n",
       "      <th>21982</th>\n",
       "      <td>web</td>\n",
       "      <td>0.0</td>\n",
       "      <td>1.0</td>\n",
       "      <td>0.0</td>\n",
       "    </tr>\n",
       "  </tbody>\n",
       "</table>\n",
       "<p>12028 rows × 4 columns</p>\n",
       "</div>"
      ],
      "text/plain": [
       "      PREFERRED_DEVICE  IOS_PURCHASES  WEB_PURCHASES  ANDROID_PURCHASES\n",
       "1              android            0.0            0.0                1.0\n",
       "2              android            0.0           19.0                0.0\n",
       "7              android            0.0            0.0                1.0\n",
       "12                 ios           19.0            0.0                0.0\n",
       "13                 ios            0.0            0.0                2.0\n",
       "...                ...            ...            ...                ...\n",
       "21973          android            0.0            0.0                1.0\n",
       "21975          android            0.0            0.0                4.0\n",
       "21976          android            0.0            0.0                1.0\n",
       "21978          android            0.0            0.0                1.0\n",
       "21982              web            0.0            1.0                0.0\n",
       "\n",
       "[12028 rows x 4 columns]"
      ]
     },
     "execution_count": 70,
     "metadata": {},
     "output_type": "execute_result"
    }
   ],
   "source": [
    "dev = customer_data_reg[['PREFERRED_DEVICE','IOS_PURCHASES','WEB_PURCHASES','ANDROID_PURCHASES']]\n",
    "dev"
   ]
  },
  {
   "cell_type": "code",
   "execution_count": 71,
   "id": "cef4edc4",
   "metadata": {},
   "outputs": [
    {
     "data": {
      "image/png": "[encoded data removed]",
      "text/plain": [
       "<Figure size 720x360 with 1 Axes>"
      ]
     },
     "metadata": {
      "needs_background": "light"
     },
     "output_type": "display_data"
    }
   ],
   "source": [
    "plt.figure(figsize=(10,5))\n",
    "sns.countplot(x='PREFERRED_DEVICE', data=dev)\n",
    "plt.title('User Segmentation based on Device Preferences')\n",
    "plt.xlabel('Device Preferences')\n",
    "plt.ylabel('Number of Users')\n",
    "plt.show()"
   ]
  },
  {
   "cell_type": "code",
   "execution_count": 75,
   "id": "e07d8340",
   "metadata": {},
   "outputs": [
    {
     "data": {
      "text/plain": [
       "count    12028.000000\n",
       "mean         5.961218\n",
       "std          3.466263\n",
       "min          0.002000\n",
       "25%          2.950500\n",
       "50%          5.928000\n",
       "75%          8.978000\n",
       "max         11.999000\n",
       "Name: AVERAGE_DELIVERY_DISTANCE_KMS, dtype: float64"
      ]
     },
     "execution_count": 75,
     "metadata": {},
     "output_type": "execute_result"
    }
   ],
   "source": [
    "data = customer_data_reg[['MOST_COMMON_HOUR_OF_THE_DAY_TO_PURCHASE','USER_ID','AVERAGE_DELIVERY_DISTANCE_KMS']]\n",
    "data['AVERAGE_DELIVERY_DISTANCE_KMS'].describe()"
   ]
  },
  {
   "cell_type": "code",
   "execution_count": 83,
   "id": "0dd98d71",
   "metadata": {},
   "outputs": [
    {
     "name": "stderr",
     "output_type": "stream",
     "text": [
      "C:\\Users\\talha\\AppData\\Local\\Temp\\ipykernel_14064\\3798510895.py:11: SettingWithCopyWarning: \n",
      "A value is trying to be set on a copy of a slice from a DataFrame.\n",
      "Try using .loc[row_indexer,col_indexer] = value instead\n",
      "\n",
      "See the caveats in the documentation: https://pandas.pydata.org/pandas-docs/stable/user_guide/indexing.html#returning-a-view-versus-a-copy\n",
      "  data['distance_value_segment'] = data['AVERAGE_DELIVERY_DISTANCE_KMS'].apply(dist_segment)\n"
     ]
    }
   ],
   "source": [
    "def dist_segment(total_purchase_value):\n",
    "    if total_purchase_value <= 2.95:\n",
    "        return 'short_distance'\n",
    "    elif total_purchase_value > 2.95 and total_purchase_value <= 5.92:\n",
    "        return 'medium_distance'\n",
    "    elif total_purchase_value > 5.92 and total_purchase_value <= 8.97:\n",
    "        return 'long_distance'\n",
    "    else:\n",
    "        return 'very_long_distance'\n",
    "\n",
    "data['distance_value_segment'] = data['AVERAGE_DELIVERY_DISTANCE_KMS'].apply(dist_segment)"
   ]
  },
  {
   "cell_type": "code",
   "execution_count": 84,
   "id": "73279822",
   "metadata": {},
   "outputs": [
    {
     "data": {
      "image/png": "[encoded data removed]",
      "text/plain": [
       "<Figure size 720x360 with 1 Axes>"
      ]
     },
     "metadata": {
      "needs_background": "light"
     },
     "output_type": "display_data"
    }
   ],
   "source": [
    "plt.figure(figsize=(10,5))\n",
    "sns.countplot(x='distance_value_segment', data=data)\n",
    "plt.title('Distance values')\n",
    "plt.xlabel('Distance')\n",
    "plt.ylabel('Number of Users')\n",
    "plt.show()"
   ]
  },
  {
   "cell_type": "code",
   "execution_count": 88,
   "id": "a6ca7f43",
   "metadata": {},
   "outputs": [
    {
     "data": {
      "text/html": [
       "<div>\n",
       "<style scoped>\n",
       "    .dataframe tbody tr th:only-of-type {\n",
       "        vertical-align: middle;\n",
       "    }\n",
       "\n",
       "    .dataframe tbody tr th {\n",
       "        vertical-align: top;\n",
       "    }\n",
       "\n",
       "    .dataframe thead th {\n",
       "        text-align: right;\n",
       "    }\n",
       "</style>\n",
       "<table border=\"1\" class=\"dataframe\">\n",
       "  <thead>\n",
       "    <tr style=\"text-align: right;\">\n",
       "      <th></th>\n",
       "      <th>PURCHASE_COUNT</th>\n",
       "      <th>AVERAGE_DELIVERY_DISTANCE_KMS</th>\n",
       "    </tr>\n",
       "  </thead>\n",
       "  <tbody>\n",
       "    <tr>\n",
       "      <th>1</th>\n",
       "      <td>1</td>\n",
       "      <td>6.853</td>\n",
       "    </tr>\n",
       "    <tr>\n",
       "      <th>2</th>\n",
       "      <td>19</td>\n",
       "      <td>6.559</td>\n",
       "    </tr>\n",
       "    <tr>\n",
       "      <th>7</th>\n",
       "      <td>1</td>\n",
       "      <td>1.251</td>\n",
       "    </tr>\n",
       "    <tr>\n",
       "      <th>12</th>\n",
       "      <td>19</td>\n",
       "      <td>3.303</td>\n",
       "    </tr>\n",
       "    <tr>\n",
       "      <th>13</th>\n",
       "      <td>2</td>\n",
       "      <td>1.382</td>\n",
       "    </tr>\n",
       "    <tr>\n",
       "      <th>...</th>\n",
       "      <td>...</td>\n",
       "      <td>...</td>\n",
       "    </tr>\n",
       "    <tr>\n",
       "      <th>21973</th>\n",
       "      <td>1</td>\n",
       "      <td>4.045</td>\n",
       "    </tr>\n",
       "    <tr>\n",
       "      <th>21975</th>\n",
       "      <td>4</td>\n",
       "      <td>11.540</td>\n",
       "    </tr>\n",
       "    <tr>\n",
       "      <th>21976</th>\n",
       "      <td>1</td>\n",
       "      <td>2.365</td>\n",
       "    </tr>\n",
       "    <tr>\n",
       "      <th>21978</th>\n",
       "      <td>1</td>\n",
       "      <td>1.383</td>\n",
       "    </tr>\n",
       "    <tr>\n",
       "      <th>21982</th>\n",
       "      <td>1</td>\n",
       "      <td>3.973</td>\n",
       "    </tr>\n",
       "  </tbody>\n",
       "</table>\n",
       "<p>12028 rows × 2 columns</p>\n",
       "</div>"
      ],
      "text/plain": [
       "       PURCHASE_COUNT  AVERAGE_DELIVERY_DISTANCE_KMS\n",
       "1                   1                          6.853\n",
       "2                  19                          6.559\n",
       "7                   1                          1.251\n",
       "12                 19                          3.303\n",
       "13                  2                          1.382\n",
       "...               ...                            ...\n",
       "21973               1                          4.045\n",
       "21975               4                         11.540\n",
       "21976               1                          2.365\n",
       "21978               1                          1.383\n",
       "21982               1                          3.973\n",
       "\n",
       "[12028 rows x 2 columns]"
      ]
     },
     "execution_count": 88,
     "metadata": {},
     "output_type": "execute_result"
    }
   ],
   "source": [
    "data = customer_data_reg[['PURCHASE_COUNT','AVERAGE_DELIVERY_DISTANCE_KMS']]\n",
    "data"
   ]
  },
  {
   "cell_type": "code",
   "execution_count": 92,
   "id": "c8e0d44c",
   "metadata": {},
   "outputs": [
    {
     "data": {
      "image/png": "[encoded data removed]",
      "text/plain": [
       "<Figure size 1440x504 with 1 Axes>"
      ]
     },
     "metadata": {
      "needs_background": "light"
     },
     "output_type": "display_data"
    }
   ],
   "source": [
    "data.groupby('PURCHASE_COUNT').mean().plot(figsize=(20,7), color='purple', style='o-')\n",
    "plt.title('Distance by Purchase Count', fontsize=16)\n",
    "plt.xlabel('Purchase Count', fontsize=14)\n",
    "plt.ylabel('Average Distance KMS', fontsize=14)\n",
    "plt.grid(True)\n"
   ]
  },
  {
   "cell_type": "code",
   "execution_count": 90,
   "id": "bc5adc8a",
   "metadata": {},
   "outputs": [
    {
     "name": "stdout",
     "output_type": "stream",
     "text": [
      "Pearson correlation coefficient: -0.018\n"
     ]
    }
   ],
   "source": [
    "from scipy.stats import pearsonr\n",
    "# df = customer_data_reg[['PURCHASE_COUNT','TOTAL_PURCHASES_EUR']]\n",
    "corr, _ = pearsonr(data['PURCHASE_COUNT'], data['AVERAGE_DELIVERY_DISTANCE_KMS'])\n",
    "print(\"Pearson correlation coefficient: {:.3f}\".format(corr))"
   ]
  },
  {
   "cell_type": "code",
   "execution_count": 91,
   "id": "cbdf3218",
   "metadata": {},
   "outputs": [
    {
     "data": {
      "text/plain": [
       "PURCHASE_COUNT                   6.114150\n",
       "AVERAGE_DELIVERY_DISTANCE_KMS    5.961218\n",
       "dtype: float64"
      ]
     },
     "execution_count": 91,
     "metadata": {},
     "output_type": "execute_result"
    }
   ],
   "source": [
    "data.mean()"
   ]
  },
  {
   "cell_type": "code",
   "execution_count": null,
   "id": "2c507d03",
   "metadata": {},
   "outputs": [],
   "source": []
  }
 ],
 "metadata": {
  "kernelspec": {
   "display_name": "Python 3 (ipykernel)",
   "language": "python",
   "name": "python3"
  },
  "language_info": {
   "codemirror_mode": {
    "name": "ipython",
    "version": 3
   },
   "file_extension": ".py",
   "mimetype": "text/x-python",
   "name": "python",
   "nbconvert_exporter": "python",
   "pygments_lexer": "ipython3",
   "version": "3.9.12"
  }
 },
 "nbformat": 4,
 "nbformat_minor": 5
}
